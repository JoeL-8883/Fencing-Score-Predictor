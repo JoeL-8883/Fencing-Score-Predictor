{
  "cells": [
    {
      "cell_type": "markdown",
      "metadata": {
        "id": "view-in-github",
        "colab_type": "text"
      },
      "source": [
        "<a href=\"https://colab.research.google.com/github/JoeL-8883/Fencing-Score-Predictor/blob/main/data.ipynb\" target=\"_parent\"><img src=\"https://colab.research.google.com/assets/colab-badge.svg\" alt=\"Open In Colab\"/></a>"
      ]
    },
    {
      "cell_type": "code",
      "execution_count": null,
      "metadata": {
        "id": "ay-iGj74TxPj"
      },
      "outputs": [],
      "source": [
        "import os\n",
        "import pandas as pd\n",
        "import csv\n",
        "from io import StringIO\n",
        "import gdown\n",
        "from bs4 import BeautifulSoup"
      ]
    },
    {
      "cell_type": "code",
      "execution_count": null,
      "metadata": {
        "id": "YnBokECkTxPm"
      },
      "outputs": [],
      "source": [
        "# Convert event abbreviation to full text for readability\n",
        "def get_event_type(event):\n",
        "    event = event.strip('()').upper()\n",
        "\n",
        "    EVENT_TYPES = {\n",
        "        'GP': 'Grand Prix',\n",
        "        'JO': 'Olympics',\n",
        "        'SA': 'Satellite',\n",
        "        'A': 'World Cup',\n",
        "        'CHZ': 'Zonal Championship',\n",
        "        'CHM': 'World Championship'\n",
        "    }\n",
        "\n",
        "    if event in EVENT_TYPES:\n",
        "        return EVENT_TYPES[event]\n",
        "    else:\n",
        "        raise ValueError(f'Unknown event type: {event}')\n",
        "\n",
        "# Get date, event host city and type of event\n",
        "def get_tournament_data(tournament_data):\n",
        "    tournament_split = tournament_data.split()\n",
        "    date = tournament_split[0]\n",
        "    host_city = ' '.join(tournament_split[1:-1])\n",
        "    event_type = get_event_type(tournament_split[-1])\n",
        "\n",
        "    return date, host_city, event_type"
      ]
    },
    {
      "cell_type": "markdown",
      "metadata": {
        "id": "Qp6jYiJjTxPn"
      },
      "source": [
        "### Download/format raw data\n",
        "\n"
      ]
    },
    {
      "cell_type": "code",
      "execution_count": null,
      "metadata": {
        "id": "RlgtHpE8TxPr"
      },
      "outputs": [],
      "source": [
        "'''Iterate through a list of CSVs containing results of each fencer '''\n",
        "current_dir = os.getcwd()\n",
        "results_dir = os.path.join(current_dir, 'results')\n",
        "\n",
        "def format_data():\n",
        "  data = []\n",
        "  for results in os.listdir(results_dir):\n",
        "      results_path = os.path.join(results_dir, results)\n",
        "      if results_path.endswith('csv'):\n",
        "          with open(results_path, 'r') as file:\n",
        "              lines = file.readlines()\n",
        "              tournaments = lines[3].strip() # The fourth line is a row of competition details\n",
        "              reader = csv.reader(StringIO(tournaments))\n",
        "              tournaments = list(reader)[0][2:-1]\n",
        "              print(results_path)\n",
        "\n",
        "              # the 5th row has actual data, and we only want to include top athletes\n",
        "              for line in lines[4:504]:\n",
        "                  line = line.strip()\n",
        "                  columns = line.split(',')\n",
        "                  rank = columns[0]\n",
        "                  fencer_name = columns[1]\n",
        "                  nationality = columns[2]\n",
        "\n",
        "                  for i, tournament in enumerate(tournaments):\n",
        "                      points_index = 3 + i # points start at column 3\n",
        "                      points = columns[points_index]\n",
        "\n",
        "                      if points:\n",
        "                          points = abs(float(points))\n",
        "                          date, host_city, event_type = get_tournament_data(tournament)\n",
        "                          data.append([fencer_name, rank, nationality, host_city, event_type, points, date])\n",
        "  return data\n",
        "\n",
        "# Create the results directory if it doesn't exist\n",
        "if not os.path.exists(results_dir):\n",
        "    os.makedirs(results_dir)\n",
        "    # Download from Google Drive\n",
        "    gdown.download_folder(\n",
        "        url='https://drive.google.com/drive/folders/1rkwkF7DOcJhgIw_KXJSV9w4qJN2rq9GT',\n",
        "        output=results_dir,\n",
        "        quiet=False,\n",
        "        use_cookies=False\n",
        "    )\n",
        "\n",
        "data = format_data()"
      ]
    },
    {
      "cell_type": "markdown",
      "metadata": {
        "id": "ez8Liv57TxPr"
      },
      "source": [
        "### Store data to Panda dataframe"
      ]
    },
    {
      "cell_type": "code",
      "execution_count": null,
      "metadata": {
        "id": "_5L_rUUhTxPs"
      },
      "outputs": [],
      "source": [
        "df = pd.DataFrame(data, columns=['fencer_name', 'rank', 'nationality', 'host_city', 'event_type', 'points_earned', 'date'])\n",
        "df = df.drop_duplicates(subset=['fencer_name', 'host_city', 'date'], keep='last')\n",
        "df['date'] = pd.to_datetime(df['date'], format='%d.%m.%y')\n",
        "df.to_csv('data.csv', index=False)\n",
        "df.head()"
      ]
    },
    {
      "cell_type": "markdown",
      "metadata": {
        "id": "dGDOTEemTxPt"
      },
      "source": [
        "Get date of birth and FIE ID data of each fencer using JSONS"
      ]
    },
    {
      "cell_type": "code",
      "execution_count": null,
      "metadata": {
        "id": "jIQyGDWITxPt"
      },
      "outputs": [],
      "source": [
        "import requests\n",
        "import time\n",
        "import fitz\n",
        "import re\n",
        "\n",
        "# Get JSON data of a fencer that includes their FIE ID and date of birth\n",
        "# !!! This function has now been deprecated, it seems that the search function on the FIE site does not return any results when searching the full name\n",
        "# Furthermore, JSON data appears to be now more incomplete, which could be due to rate limiting issues.\n",
        "# Thankfully, the dataset has already been constructed, and can be found here https://www.kaggle.com/datasets/foillee/fencing-points\n",
        "# However, this means that without a fix, the dataset cannot be updated.\n",
        "def Get_Fencer_JSON(name):\n",
        "  url = \"https://fie.org/athletes/search\"\n",
        "  payload = {\"name\": name}\n",
        "  resp = requests.post(url, json=payload, timeout=10)\n",
        "  resp.raise_for_status()\n",
        "  return resp.json()\n",
        "\n",
        "'''This code is actually mostly redundant as the true issue was with retrieving the wrong ID for fencers with the same target name'''\n",
        "def fetch_dob(id, name, fencer_dict):\n",
        "  dob = None\n",
        "  url = f\"https://fie.org/athletes/{id}/profile\"\n",
        "  headers = {\n",
        "      'User-Agent': 'Mozilla/5.0 (Windows NT 10.0; Win64; x64) AppleWebKit/537.36 (KHTML, like Gecko) Chrome/91.0.4472.124 Safari/537.36'\n",
        "  }\n",
        "  resp = requests.get(url, headers=headers, timeout=10)\n",
        "  resp.raise_for_status()\n",
        "\n",
        "  # This code was working, then stopped unknownly\n",
        "  pdf = fitz.open(stream=resp.content, filetype=\"pdf\")\n",
        "  text = \"\"\n",
        "  for page in pdf:\n",
        "    text += page.get_text()\n",
        "\n",
        "  print(text)\n",
        "  pdf.close()\n",
        "\n",
        "  # Use regex to find the date of birth in the text\n",
        "  pattern = r\"Date of birth:\\s*\\n?\\s*(\\d{4}-\\d{2}-\\d{2})\"\n",
        "  match = re.search(pattern, text)\n",
        "  if match:\n",
        "    dob = match.group(1)\n",
        "    print(f\"DOB found for {name}\")\n",
        "    print()\n",
        "  else:\n",
        "    print(f\"Date of birth not found for {name} {id} {url}\")\n",
        "    print(fencer_dict)\n",
        "    print()\n",
        "  return dob\n",
        "\n",
        "def retry_fetch(name, retries=3):\n",
        "   # Try to fetch data with different variations of the name\n",
        "      variations = [\n",
        "        name.split()[0].capitalize() + ' ' + name.split()[1],\n",
        "        name.split()[0] + ' ' + name.split()[1].lower(),\n",
        "        # Add more variants if needed\n",
        "      ]\n",
        "\n",
        "      for variant in variations:\n",
        "        print(f\"Trying {variant}\")\n",
        "        results = Get_Fencer_JSON(variant)\n",
        "        fencer_dict = list(results.values())[0][0]\n",
        "        id = fencer_dict.get('id')\n",
        "        dob = fencer_dict.get('date')\n",
        "        if id and dob:\n",
        "          print(f\"Fetched data for {variant}\")\n",
        "          return id, dob\n",
        "\n",
        "      # Try retrying with original name\n",
        "      counter = 0\n",
        "      while(not id or not dob) and counter < retries:\n",
        "        time.sleep(2)\n",
        "        counter += 1\n",
        "        results = Get_Fencer_JSON(name)\n",
        "        fencer_dict = list(results.values())[0][0]\n",
        "        id = fencer_dict.get('id')\n",
        "        dob = fencer_dict.get('date')\n",
        "      if not id or not dob:\n",
        "        print(f\"Failed to fetch data for {name} after {retries} attempts\")\n",
        "        print()\n",
        "      else:\n",
        "        print(f\"Fetched data for {name} after {counter} attempts\")\n",
        "        print()\n",
        "      return None, None\n",
        "\n"
      ]
    },
    {
      "cell_type": "code",
      "execution_count": null,
      "metadata": {
        "id": "lfhfS7TwTxPt"
      },
      "outputs": [],
      "source": [
        "'''Note this code takes a long time to run as it fetches data for each fencer individually from the FIE website'''\n",
        "names = df['fencer_name'].unique()\n",
        "df['fie_ID'] = None\n",
        "df['dob'] = None\n",
        "\n",
        "''' Fetch FIE IDs and dates of birth for each fencer '''\n",
        "# There are multiple irrelevant athlete profiles that have the same names of fencers, they often have incomplete JSON data\n",
        "# We can check that we have the correct fencer by checking the level and weapon in the JSON data\n",
        "for name in names:\n",
        "  surname = name.split()[0]\n",
        "  try:\n",
        "    results = Get_Fencer_JSON(surname)\n",
        "    json_data = list(results.values())\n",
        "\n",
        "    # Handle empty JSON data\n",
        "    if json_data is None or len(json_data) == 0:\n",
        "      # Retry getting data if json is empty\n",
        "      max_retries = 3\n",
        "      for retry in range(max_retries):\n",
        "        try:\n",
        "          results = Get_Fencer_JSON(name)\n",
        "          json_data = list(results.values())[0]\n",
        "          if json_data or len(json_data) > 0:\n",
        "            break\n",
        "        except requests.exceptions.RequestException as e:\n",
        "          time.sleep(2)\n",
        "        time.sleep(2)\n",
        "      if json_data is None or len(json_data) == 0:\n",
        "        print(f\"No data found for {name} after {max_retries} retries\")\n",
        "        print(\"Warning - fencer will be removed from the dataset\\n\")\n",
        "        df = df[df['fencer_name'] != name]\n",
        "        continue\n",
        "\n",
        "    else:\n",
        "      json_data = json_data[0] # json data is nested in an extra list\n",
        "\n",
        "      # Validate that we have the correct fencer\n",
        "      # Note: this assumes that senior male foilist fencers have unique names\n",
        "      for fencer in json_data:\n",
        "        if fencer['level'] == 'S' and fencer['weapon'] == 'F' and fencer['name'] == name:\n",
        "          fencer_dict = fencer\n",
        "          break\n",
        "\n",
        "      if not fencer_dict:\n",
        "        raise ValueError(f\"Could not find correct data for {name}\")\n",
        "\n",
        "      # Ensure that id and date of birth are present\n",
        "      try:\n",
        "        id = fencer_dict['id']\n",
        "        if not id:\n",
        "          raise ValueError(f\"ID is empty for {name}\")\n",
        "      except KeyError:\n",
        "          raise KeyError(f\"No id found for {name}\")\n",
        "\n",
        "      try:\n",
        "        dob = fencer_dict['date']\n",
        "        if not dob:\n",
        "          raise ValueError(f\"Date of birth is empty for {name}\")\n",
        "      except KeyError:\n",
        "        raise KeyError(f\"No date of birth found for {name}\")\n",
        "\n",
        "      df.loc[df['fencer_name'] == name, 'fie_ID'] = id\n",
        "      df.loc[df['fencer_name'] == name, 'dob'] = dob\n",
        "\n",
        "  except requests.exceptions.RequestException as e:\n",
        "    raise(f\"Request error for {name}\")\n",
        "  # There are consistent index errors for few fencers and their JSON data seems inconsistent\n",
        "  # So it is fine to just remove them from the dataset as they are not key fencers\n",
        "  except IndexError as e:\n",
        "    print(f\"Index error for {name}: {e}\")\n",
        "    print(fencer_dict)\n",
        "    print(\"Warning - fencer will be removed from the dataset\")\n",
        "    df = df[df['fencer_name'] != name]\n",
        "    print()\n",
        "    continue\n"
      ]
    },
    {
      "cell_type": "markdown",
      "metadata": {
        "id": "IHn4qnXvTxPu"
      },
      "source": [
        "Determine ages of fencers at time of competition"
      ]
    },
    {
      "cell_type": "code",
      "execution_count": null,
      "metadata": {
        "id": "CRDhZIyVTxPu"
      },
      "outputs": [],
      "source": [
        "'''Verify that all fencers in df have a dob'''\n",
        "df['dob'] = pd.to_datetime(df['dob'], format='%Y-%m-%d', errors='coerce')\n",
        "\n",
        "# Some FIE profiles have an incorrect date of birth format, we just remove these fencers from the dataset\n",
        "# i.e. see https://fie.org/athletes/38249/profile\n",
        "missing_age_rows = df[df['dob'].isna()]\n",
        "missing_fencer_names = missing_age_rows['fencer_name'].unique().tolist()\n",
        "\n",
        "for name in missing_fencer_names:\n",
        "    print(f\"Removing fencer {name} due to missing or incorrect date of birth\")\n",
        "    df = df[df['fencer_name'] != name]\n",
        "\n",
        "df['age'] = ( (df['date'] - df['dob']).dt.days // 365.25).astype(int)\n"
      ]
    },
    {
      "cell_type": "code",
      "execution_count": null,
      "metadata": {
        "id": "hbr9KymnTxPu"
      },
      "outputs": [],
      "source": [
        "'''Reorganise columns for better readability'''\n",
        "new_column_order = [\n",
        "    'fie_ID',\n",
        "    'fencer_name',\n",
        "    'age',\n",
        "    'dob',\n",
        "    'nationality',  # I assume this is your \"nationality\" column\n",
        "    'rank',        # I assume this is your \"rank\" column\n",
        "    'host_city',\n",
        "    'event_type',\n",
        "    'points_earne',\n",
        "    'date'\n",
        "]\n",
        "\n",
        "df = df[new_column_order]\n",
        "df.to_csv('data.csv', index=False)\n",
        "df.head()"
      ]
    }
  ],
  "metadata": {
    "kernelspec": {
      "display_name": "fencing_points",
      "language": "python",
      "name": "python3"
    },
    "language_info": {
      "codemirror_mode": {
        "name": "ipython",
        "version": 3
      },
      "file_extension": ".py",
      "mimetype": "text/x-python",
      "name": "python",
      "nbconvert_exporter": "python",
      "pygments_lexer": "ipython3",
      "version": "3.8.20"
    },
    "colab": {
      "provenance": [],
      "include_colab_link": true
    }
  },
  "nbformat": 4,
  "nbformat_minor": 0
}