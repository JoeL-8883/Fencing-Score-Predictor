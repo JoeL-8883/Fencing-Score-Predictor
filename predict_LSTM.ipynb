{
  "nbformat": 4,
  "nbformat_minor": 0,
  "metadata": {
    "colab": {
      "provenance": [],
      "gpuType": "T4",
      "authorship_tag": "ABX9TyO2xz1muUoZ2CEfd7kpBx8z",
      "include_colab_link": true
    },
    "kernelspec": {
      "name": "python3",
      "display_name": "Python 3"
    },
    "language_info": {
      "name": "python"
    },
    "accelerator": "GPU"
  },
  "cells": [
    {
      "cell_type": "markdown",
      "metadata": {
        "id": "view-in-github",
        "colab_type": "text"
      },
      "source": [
        "<a href=\"https://colab.research.google.com/github/JoeL-8883/Fencing-Score-Predictor/blob/main/predict_LSTM.ipynb\" target=\"_parent\"><img src=\"https://colab.research.google.com/assets/colab-badge.svg\" alt=\"Open In Colab\"/></a>"
      ]
    },
    {
      "cell_type": "code",
      "execution_count": 1,
      "metadata": {
        "id": "Yn52tVs1R0YS"
      },
      "outputs": [],
      "source": [
        "import pandas as pd\n",
        "import matplotlib.pyplot as plt\n",
        "import matplotlib.dates as mdates\n",
        "import numpy as np\n",
        "import torch\n",
        "import torch.nn as nn\n",
        "from torch.utils.data import Dataset, DataLoader\n",
        "from bs4 import BeautifulSoup\n",
        "import requests\n",
        "import os\n",
        "import gdown\n",
        "import kagglehub\n",
        "import random"
      ]
    },
    {
      "cell_type": "code",
      "source": [
        "path = kagglehub.dataset_download(\"foillee/fencing-points\")\n",
        "csv_path = os.path.join(path, 'data.csv')\n",
        "df = pd.read_csv(csv_path)\n",
        "df = df.sort_values(by='date')\n",
        "df['date'] = pd.to_datetime(df['date'])\n",
        "df.head()"
      ],
      "metadata": {
        "colab": {
          "base_uri": "https://localhost:8080/",
          "height": 204
        },
        "id": "o-cYOYUJR4mF",
        "outputId": "1d86558c-752c-4359-ec20-9654bdd32d27"
      },
      "execution_count": 2,
      "outputs": [
        {
          "output_type": "execute_result",
          "data": {
            "text/plain": [
              "      fie_ID     fencer_name  age         dob nationality  rank host_city  \\\n",
              "5279   17148   ROWLES Thomas   17  1990-05-30         GBR   504   Londres   \n",
              "4878   14529   REMIJN Martin   18  1989-07-25         NED   251   Londres   \n",
              "4873   16321  STIJLAART Mats   17  1990-10-08         NED   250   Londres   \n",
              "4864   17823   AVOLA Giorgio   18  1989-05-08         ITA   247   Londres   \n",
              "4858    3247    KENBER Jamie   20  1986-11-14         GBR   245   Londres   \n",
              "\n",
              "     event_type  points_earned       date  \n",
              "5279  Satellite            0.0 2007-10-21  \n",
              "4878  Satellite            0.0 2007-10-21  \n",
              "4873  Satellite            0.0 2007-10-21  \n",
              "4864  Satellite            2.0 2007-10-21  \n",
              "4858  Satellite            3.0 2007-10-21  "
            ],
            "text/html": [
              "\n",
              "  <div id=\"df-275dd9a9-9cf5-4b84-a9df-7e3613480841\" class=\"colab-df-container\">\n",
              "    <div>\n",
              "<style scoped>\n",
              "    .dataframe tbody tr th:only-of-type {\n",
              "        vertical-align: middle;\n",
              "    }\n",
              "\n",
              "    .dataframe tbody tr th {\n",
              "        vertical-align: top;\n",
              "    }\n",
              "\n",
              "    .dataframe thead th {\n",
              "        text-align: right;\n",
              "    }\n",
              "</style>\n",
              "<table border=\"1\" class=\"dataframe\">\n",
              "  <thead>\n",
              "    <tr style=\"text-align: right;\">\n",
              "      <th></th>\n",
              "      <th>fie_ID</th>\n",
              "      <th>fencer_name</th>\n",
              "      <th>age</th>\n",
              "      <th>dob</th>\n",
              "      <th>nationality</th>\n",
              "      <th>rank</th>\n",
              "      <th>host_city</th>\n",
              "      <th>event_type</th>\n",
              "      <th>points_earned</th>\n",
              "      <th>date</th>\n",
              "    </tr>\n",
              "  </thead>\n",
              "  <tbody>\n",
              "    <tr>\n",
              "      <th>5279</th>\n",
              "      <td>17148</td>\n",
              "      <td>ROWLES Thomas</td>\n",
              "      <td>17</td>\n",
              "      <td>1990-05-30</td>\n",
              "      <td>GBR</td>\n",
              "      <td>504</td>\n",
              "      <td>Londres</td>\n",
              "      <td>Satellite</td>\n",
              "      <td>0.0</td>\n",
              "      <td>2007-10-21</td>\n",
              "    </tr>\n",
              "    <tr>\n",
              "      <th>4878</th>\n",
              "      <td>14529</td>\n",
              "      <td>REMIJN Martin</td>\n",
              "      <td>18</td>\n",
              "      <td>1989-07-25</td>\n",
              "      <td>NED</td>\n",
              "      <td>251</td>\n",
              "      <td>Londres</td>\n",
              "      <td>Satellite</td>\n",
              "      <td>0.0</td>\n",
              "      <td>2007-10-21</td>\n",
              "    </tr>\n",
              "    <tr>\n",
              "      <th>4873</th>\n",
              "      <td>16321</td>\n",
              "      <td>STIJLAART Mats</td>\n",
              "      <td>17</td>\n",
              "      <td>1990-10-08</td>\n",
              "      <td>NED</td>\n",
              "      <td>250</td>\n",
              "      <td>Londres</td>\n",
              "      <td>Satellite</td>\n",
              "      <td>0.0</td>\n",
              "      <td>2007-10-21</td>\n",
              "    </tr>\n",
              "    <tr>\n",
              "      <th>4864</th>\n",
              "      <td>17823</td>\n",
              "      <td>AVOLA Giorgio</td>\n",
              "      <td>18</td>\n",
              "      <td>1989-05-08</td>\n",
              "      <td>ITA</td>\n",
              "      <td>247</td>\n",
              "      <td>Londres</td>\n",
              "      <td>Satellite</td>\n",
              "      <td>2.0</td>\n",
              "      <td>2007-10-21</td>\n",
              "    </tr>\n",
              "    <tr>\n",
              "      <th>4858</th>\n",
              "      <td>3247</td>\n",
              "      <td>KENBER Jamie</td>\n",
              "      <td>20</td>\n",
              "      <td>1986-11-14</td>\n",
              "      <td>GBR</td>\n",
              "      <td>245</td>\n",
              "      <td>Londres</td>\n",
              "      <td>Satellite</td>\n",
              "      <td>3.0</td>\n",
              "      <td>2007-10-21</td>\n",
              "    </tr>\n",
              "  </tbody>\n",
              "</table>\n",
              "</div>\n",
              "    <div class=\"colab-df-buttons\">\n",
              "\n",
              "  <div class=\"colab-df-container\">\n",
              "    <button class=\"colab-df-convert\" onclick=\"convertToInteractive('df-275dd9a9-9cf5-4b84-a9df-7e3613480841')\"\n",
              "            title=\"Convert this dataframe to an interactive table.\"\n",
              "            style=\"display:none;\">\n",
              "\n",
              "  <svg xmlns=\"http://www.w3.org/2000/svg\" height=\"24px\" viewBox=\"0 -960 960 960\">\n",
              "    <path d=\"M120-120v-720h720v720H120Zm60-500h600v-160H180v160Zm220 220h160v-160H400v160Zm0 220h160v-160H400v160ZM180-400h160v-160H180v160Zm440 0h160v-160H620v160ZM180-180h160v-160H180v160Zm440 0h160v-160H620v160Z\"/>\n",
              "  </svg>\n",
              "    </button>\n",
              "\n",
              "  <style>\n",
              "    .colab-df-container {\n",
              "      display:flex;\n",
              "      gap: 12px;\n",
              "    }\n",
              "\n",
              "    .colab-df-convert {\n",
              "      background-color: #E8F0FE;\n",
              "      border: none;\n",
              "      border-radius: 50%;\n",
              "      cursor: pointer;\n",
              "      display: none;\n",
              "      fill: #1967D2;\n",
              "      height: 32px;\n",
              "      padding: 0 0 0 0;\n",
              "      width: 32px;\n",
              "    }\n",
              "\n",
              "    .colab-df-convert:hover {\n",
              "      background-color: #E2EBFA;\n",
              "      box-shadow: 0px 1px 2px rgba(60, 64, 67, 0.3), 0px 1px 3px 1px rgba(60, 64, 67, 0.15);\n",
              "      fill: #174EA6;\n",
              "    }\n",
              "\n",
              "    .colab-df-buttons div {\n",
              "      margin-bottom: 4px;\n",
              "    }\n",
              "\n",
              "    [theme=dark] .colab-df-convert {\n",
              "      background-color: #3B4455;\n",
              "      fill: #D2E3FC;\n",
              "    }\n",
              "\n",
              "    [theme=dark] .colab-df-convert:hover {\n",
              "      background-color: #434B5C;\n",
              "      box-shadow: 0px 1px 3px 1px rgba(0, 0, 0, 0.15);\n",
              "      filter: drop-shadow(0px 1px 2px rgba(0, 0, 0, 0.3));\n",
              "      fill: #FFFFFF;\n",
              "    }\n",
              "  </style>\n",
              "\n",
              "    <script>\n",
              "      const buttonEl =\n",
              "        document.querySelector('#df-275dd9a9-9cf5-4b84-a9df-7e3613480841 button.colab-df-convert');\n",
              "      buttonEl.style.display =\n",
              "        google.colab.kernel.accessAllowed ? 'block' : 'none';\n",
              "\n",
              "      async function convertToInteractive(key) {\n",
              "        const element = document.querySelector('#df-275dd9a9-9cf5-4b84-a9df-7e3613480841');\n",
              "        const dataTable =\n",
              "          await google.colab.kernel.invokeFunction('convertToInteractive',\n",
              "                                                    [key], {});\n",
              "        if (!dataTable) return;\n",
              "\n",
              "        const docLinkHtml = 'Like what you see? Visit the ' +\n",
              "          '<a target=\"_blank\" href=https://colab.research.google.com/notebooks/data_table.ipynb>data table notebook</a>'\n",
              "          + ' to learn more about interactive tables.';\n",
              "        element.innerHTML = '';\n",
              "        dataTable['output_type'] = 'display_data';\n",
              "        await google.colab.output.renderOutput(dataTable, element);\n",
              "        const docLink = document.createElement('div');\n",
              "        docLink.innerHTML = docLinkHtml;\n",
              "        element.appendChild(docLink);\n",
              "      }\n",
              "    </script>\n",
              "  </div>\n",
              "\n",
              "\n",
              "    <div id=\"df-9b58fd30-7f29-4916-9c47-fd6500bee6e2\">\n",
              "      <button class=\"colab-df-quickchart\" onclick=\"quickchart('df-9b58fd30-7f29-4916-9c47-fd6500bee6e2')\"\n",
              "                title=\"Suggest charts\"\n",
              "                style=\"display:none;\">\n",
              "\n",
              "<svg xmlns=\"http://www.w3.org/2000/svg\" height=\"24px\"viewBox=\"0 0 24 24\"\n",
              "     width=\"24px\">\n",
              "    <g>\n",
              "        <path d=\"M19 3H5c-1.1 0-2 .9-2 2v14c0 1.1.9 2 2 2h14c1.1 0 2-.9 2-2V5c0-1.1-.9-2-2-2zM9 17H7v-7h2v7zm4 0h-2V7h2v10zm4 0h-2v-4h2v4z\"/>\n",
              "    </g>\n",
              "</svg>\n",
              "      </button>\n",
              "\n",
              "<style>\n",
              "  .colab-df-quickchart {\n",
              "      --bg-color: #E8F0FE;\n",
              "      --fill-color: #1967D2;\n",
              "      --hover-bg-color: #E2EBFA;\n",
              "      --hover-fill-color: #174EA6;\n",
              "      --disabled-fill-color: #AAA;\n",
              "      --disabled-bg-color: #DDD;\n",
              "  }\n",
              "\n",
              "  [theme=dark] .colab-df-quickchart {\n",
              "      --bg-color: #3B4455;\n",
              "      --fill-color: #D2E3FC;\n",
              "      --hover-bg-color: #434B5C;\n",
              "      --hover-fill-color: #FFFFFF;\n",
              "      --disabled-bg-color: #3B4455;\n",
              "      --disabled-fill-color: #666;\n",
              "  }\n",
              "\n",
              "  .colab-df-quickchart {\n",
              "    background-color: var(--bg-color);\n",
              "    border: none;\n",
              "    border-radius: 50%;\n",
              "    cursor: pointer;\n",
              "    display: none;\n",
              "    fill: var(--fill-color);\n",
              "    height: 32px;\n",
              "    padding: 0;\n",
              "    width: 32px;\n",
              "  }\n",
              "\n",
              "  .colab-df-quickchart:hover {\n",
              "    background-color: var(--hover-bg-color);\n",
              "    box-shadow: 0 1px 2px rgba(60, 64, 67, 0.3), 0 1px 3px 1px rgba(60, 64, 67, 0.15);\n",
              "    fill: var(--button-hover-fill-color);\n",
              "  }\n",
              "\n",
              "  .colab-df-quickchart-complete:disabled,\n",
              "  .colab-df-quickchart-complete:disabled:hover {\n",
              "    background-color: var(--disabled-bg-color);\n",
              "    fill: var(--disabled-fill-color);\n",
              "    box-shadow: none;\n",
              "  }\n",
              "\n",
              "  .colab-df-spinner {\n",
              "    border: 2px solid var(--fill-color);\n",
              "    border-color: transparent;\n",
              "    border-bottom-color: var(--fill-color);\n",
              "    animation:\n",
              "      spin 1s steps(1) infinite;\n",
              "  }\n",
              "\n",
              "  @keyframes spin {\n",
              "    0% {\n",
              "      border-color: transparent;\n",
              "      border-bottom-color: var(--fill-color);\n",
              "      border-left-color: var(--fill-color);\n",
              "    }\n",
              "    20% {\n",
              "      border-color: transparent;\n",
              "      border-left-color: var(--fill-color);\n",
              "      border-top-color: var(--fill-color);\n",
              "    }\n",
              "    30% {\n",
              "      border-color: transparent;\n",
              "      border-left-color: var(--fill-color);\n",
              "      border-top-color: var(--fill-color);\n",
              "      border-right-color: var(--fill-color);\n",
              "    }\n",
              "    40% {\n",
              "      border-color: transparent;\n",
              "      border-right-color: var(--fill-color);\n",
              "      border-top-color: var(--fill-color);\n",
              "    }\n",
              "    60% {\n",
              "      border-color: transparent;\n",
              "      border-right-color: var(--fill-color);\n",
              "    }\n",
              "    80% {\n",
              "      border-color: transparent;\n",
              "      border-right-color: var(--fill-color);\n",
              "      border-bottom-color: var(--fill-color);\n",
              "    }\n",
              "    90% {\n",
              "      border-color: transparent;\n",
              "      border-bottom-color: var(--fill-color);\n",
              "    }\n",
              "  }\n",
              "</style>\n",
              "\n",
              "      <script>\n",
              "        async function quickchart(key) {\n",
              "          const quickchartButtonEl =\n",
              "            document.querySelector('#' + key + ' button');\n",
              "          quickchartButtonEl.disabled = true;  // To prevent multiple clicks.\n",
              "          quickchartButtonEl.classList.add('colab-df-spinner');\n",
              "          try {\n",
              "            const charts = await google.colab.kernel.invokeFunction(\n",
              "                'suggestCharts', [key], {});\n",
              "          } catch (error) {\n",
              "            console.error('Error during call to suggestCharts:', error);\n",
              "          }\n",
              "          quickchartButtonEl.classList.remove('colab-df-spinner');\n",
              "          quickchartButtonEl.classList.add('colab-df-quickchart-complete');\n",
              "        }\n",
              "        (() => {\n",
              "          let quickchartButtonEl =\n",
              "            document.querySelector('#df-9b58fd30-7f29-4916-9c47-fd6500bee6e2 button');\n",
              "          quickchartButtonEl.style.display =\n",
              "            google.colab.kernel.accessAllowed ? 'block' : 'none';\n",
              "        })();\n",
              "      </script>\n",
              "    </div>\n",
              "\n",
              "    </div>\n",
              "  </div>\n"
            ],
            "application/vnd.google.colaboratory.intrinsic+json": {
              "type": "dataframe",
              "variable_name": "df",
              "summary": "{\n  \"name\": \"df\",\n  \"rows\": 30808,\n  \"fields\": [\n    {\n      \"column\": \"fie_ID\",\n      \"properties\": {\n        \"dtype\": \"number\",\n        \"std\": 14748,\n        \"min\": 19,\n        \"max\": 65698,\n        \"num_unique_values\": 2679,\n        \"samples\": [\n          4921,\n          36579,\n          20668\n        ],\n        \"semantic_type\": \"\",\n        \"description\": \"\"\n      }\n    },\n    {\n      \"column\": \"fencer_name\",\n      \"properties\": {\n        \"dtype\": \"category\",\n        \"num_unique_values\": 2762,\n        \"samples\": [\n          \"YAN Wei Jyun\",\n          \"LAU Kenji Tsun Yin\",\n          \"GUNES Fatih\"\n        ],\n        \"semantic_type\": \"\",\n        \"description\": \"\"\n      }\n    },\n    {\n      \"column\": \"age\",\n      \"properties\": {\n        \"dtype\": \"number\",\n        \"std\": 5,\n        \"min\": 0,\n        \"max\": 92,\n        \"num_unique_values\": 73,\n        \"samples\": [\n          31,\n          73,\n          26\n        ],\n        \"semantic_type\": \"\",\n        \"description\": \"\"\n      }\n    },\n    {\n      \"column\": \"dob\",\n      \"properties\": {\n        \"dtype\": \"object\",\n        \"num_unique_values\": 2357,\n        \"samples\": [\n          \"2000-03-16\",\n          \"1994-03-08\",\n          \"2000-09-12\"\n        ],\n        \"semantic_type\": \"\",\n        \"description\": \"\"\n      }\n    },\n    {\n      \"column\": \"nationality\",\n      \"properties\": {\n        \"dtype\": \"category\",\n        \"num_unique_values\": 121,\n        \"samples\": [\n          \"TUR\",\n          \"PUR\",\n          \"CHI\"\n        ],\n        \"semantic_type\": \"\",\n        \"description\": \"\"\n      }\n    },\n    {\n      \"column\": \"rank\",\n      \"properties\": {\n        \"dtype\": \"number\",\n        \"std\": 137,\n        \"min\": 1,\n        \"max\": 505,\n        \"num_unique_values\": 505,\n        \"samples\": [\n          17,\n          112,\n          338\n        ],\n        \"semantic_type\": \"\",\n        \"description\": \"\"\n      }\n    },\n    {\n      \"column\": \"host_city\",\n      \"properties\": {\n        \"dtype\": \"category\",\n        \"num_unique_values\": 98,\n        \"samples\": [\n          \"Hong Kong\",\n          \"Cape Town\",\n          \"Kuweit City\"\n        ],\n        \"semantic_type\": \"\",\n        \"description\": \"\"\n      }\n    },\n    {\n      \"column\": \"event_type\",\n      \"properties\": {\n        \"dtype\": \"category\",\n        \"num_unique_values\": 6,\n        \"samples\": [\n          \"Satellite\",\n          \"World Cup\",\n          \"World Championship\"\n        ],\n        \"semantic_type\": \"\",\n        \"description\": \"\"\n      }\n    },\n    {\n      \"column\": \"points_earned\",\n      \"properties\": {\n        \"dtype\": \"number\",\n        \"std\": 7.418415891653998,\n        \"min\": 0.0,\n        \"max\": 96.0,\n        \"num_unique_values\": 41,\n        \"samples\": [\n          30.0,\n          52.0,\n          32.0\n        ],\n        \"semantic_type\": \"\",\n        \"description\": \"\"\n      }\n    },\n    {\n      \"column\": \"date\",\n      \"properties\": {\n        \"dtype\": \"date\",\n        \"min\": \"2007-10-21 00:00:00\",\n        \"max\": \"2025-05-17 00:00:00\",\n        \"num_unique_values\": 304,\n        \"samples\": [\n          \"2017-06-15 00:00:00\",\n          \"2016-03-11 00:00:00\",\n          \"2013-11-09 00:00:00\"\n        ],\n        \"semantic_type\": \"\",\n        \"description\": \"\"\n      }\n    }\n  ]\n}"
            }
          },
          "metadata": {},
          "execution_count": 2
        }
      ]
    },
    {
      "cell_type": "code",
      "source": [
        "# Satellite events give very few points which could negatively affect trajectories\n",
        "df = df[df['event_type'] != 'Satellite']\n",
        "\n",
        "'''Delete data for fencers who do not compete regularly'''\n",
        "# NOTE - the threshold must be g.e.q sequence_length / train_split\n",
        "threshold = 20 # the number of non-satellite events each fencer must have attended to be considered\n",
        "fencer_counts = df['fencer_name'].value_counts()\n",
        "fencers_to_delete = fencer_counts[fencer_counts < 20].index\n",
        "print(f'Deleting {len(fencers_to_delete)} fencers')\n",
        "df = df[~df['fencer_name'].isin(fencers_to_delete)]"
      ],
      "metadata": {
        "colab": {
          "base_uri": "https://localhost:8080/"
        },
        "id": "PZJTeWCPR6tz",
        "outputId": "f01d96b6-d922-4ace-fd7e-dd7925b7d842"
      },
      "execution_count": 3,
      "outputs": [
        {
          "output_type": "stream",
          "name": "stdout",
          "text": [
            "Deleting 1735 fencers\n"
          ]
        }
      ]
    },
    {
      "cell_type": "code",
      "source": [
        "'''Compute rolling averages of points earned'''\n",
        "window_size = 8\n",
        "df['rolling_avg_points'] = df.groupby('fencer_name')['points_earned'].transform(lambda x: x.rolling(window=window_size).mean())\n",
        "\n",
        "# Fill NaN values\n",
        "df['rolling_avg_points'] = df['rolling_avg_points'].fillna(method='bfill') # Fill initial NaNs with the first valid value\n",
        "df['rolling_avg_points'] = df['rolling_avg_points'].fillna(0) # Fill any remaining NaNs with 0 if necessary\n",
        "\n",
        "# Normalise\n",
        "rolling_mean = df['rolling_avg_points'].mean()\n",
        "rolling_std = df['rolling_avg_points'].std()\n",
        "df['rolling_avg_normalised'] = (df['rolling_avg_points'] - rolling_mean) / rolling_std"
      ],
      "metadata": {
        "colab": {
          "base_uri": "https://localhost:8080/"
        },
        "id": "IBwO5Y4_Stb1",
        "outputId": "2f0e6ec8-fce6-4dbc-f5f0-b945bef41fba"
      },
      "execution_count": 4,
      "outputs": [
        {
          "output_type": "stream",
          "name": "stderr",
          "text": [
            "/tmp/ipython-input-4-1290776390.py:6: FutureWarning: Series.fillna with 'method' is deprecated and will raise in a future version. Use obj.ffill() or obj.bfill() instead.\n",
            "  df['rolling_avg_points'] = df['rolling_avg_points'].fillna(method='bfill') # Fill initial NaNs with the first valid value\n"
          ]
        }
      ]
    },
    {
      "cell_type": "code",
      "source": [
        "# Normalise and rescale other quantities\n",
        "points_mean = df['points_earned'].mean()\n",
        "points_std = df['points_earned'].std()\n",
        "df['points_normalised'] = (df['points_earned'] - points_mean) / points_std\n",
        "\n",
        "df['age_normalised'] = (df['age'] - df['age'].mean()) / df['age'].std()\n",
        "\n",
        "max_rank = df['rank'].max()\n",
        "min_rank = df['rank'].min()\n",
        "df['rank_rescaled'] = (df['rank'] - min_rank) / (max_rank - min_rank)"
      ],
      "metadata": {
        "id": "2mM8jw3uS4U0"
      },
      "execution_count": 5,
      "outputs": []
    },
    {
      "cell_type": "code",
      "source": [
        "# One-hot encoding of nationalities\n",
        "one_hot_nationality = pd.get_dummies(df['nationality'], prefix='nationality')\n",
        "df = pd.concat([df, one_hot_nationality], axis=1)"
      ],
      "metadata": {
        "id": "WPYdmEulTByi"
      },
      "execution_count": 6,
      "outputs": []
    },
    {
      "cell_type": "code",
      "source": [
        "class FencerSequencesDataset(Dataset):\n",
        "  def __init__(self, df, window_size=10, horizon=1):\n",
        "    self.window_size = window_size\n",
        "    self.horizon = horizon\n",
        "    self.sequences = []\n",
        "    self.targets = []\n",
        "\n",
        "    for fencer_name, fencer_df in df:\n",
        "      # Concatenate features\n",
        "      features = fencer_df[['points_normalised',\n",
        "                            'rolling_avg_normalised',\n",
        "                            'rank_rescaled',\n",
        "                            'age_normalised']].values\n",
        "      nationality_columns = [col for col in fencer_df.columns if col.startswith('nationality_')]\n",
        "      all_features = np.concatenate((features, fencer_df[nationality_columns].values), axis=1)\n",
        "\n",
        "      # Create sliding windows of different lengths to be used for training\n",
        "      n_comps_entered = len(all_features)\n",
        "      for start in range(n_comps_entered - window_size - horizon + 1):\n",
        "        end = start + window_size\n",
        "        seq = all_features[start:end]\n",
        "        target = all_features[end:end + horizon, 0] # index 0 corresponds to points_normalised\n",
        "\n",
        "        self.sequences.append(torch.tensor(seq, dtype=torch.float32))\n",
        "        self.targets.append(torch.tensor(target, dtype=torch.float32))\n",
        "\n",
        "  def __len__(self):\n",
        "    return len(self.sequences)\n",
        "\n",
        "  def __getitem__(self, idx):\n",
        "    return self.sequences[idx], self.targets[idx]"
      ],
      "metadata": {
        "id": "zRvYgceqTL07"
      },
      "execution_count": 7,
      "outputs": []
    },
    {
      "cell_type": "markdown",
      "source": [
        "### Split the data\n",
        "Split fencers so a given fencer is used entirely for training or validation or testing. This way the model may generalise to new fencing data by learning patterns in fencing performance trajectory."
      ],
      "metadata": {
        "id": "stXCoCX6CQw-"
      }
    },
    {
      "cell_type": "code",
      "source": [
        "train_split = 0.8\n",
        "val_split   = 0.1\n",
        "test_split  = 0.1\n",
        "\n",
        "unique_fencers = df['fencer_name'].unique()\n",
        "random.shuffle(unique_fencers)\n",
        "num_fencers = len(unique_fencers)\n",
        "\n",
        "train_size = int(num_fencers * train_split)\n",
        "val_size = int(num_fencers * val_split)\n",
        "test_size = num_fencers - train_size - val_size\n",
        "\n",
        "# Get lists of fencers\n",
        "train_fencers = unique_fencers[:train_size]\n",
        "remaining_fencers = unique_fencers[train_size:]\n",
        "val_fencers, test_fencers = np.array_split(remaining_fencers, 2)\n",
        "\n",
        "# Get data frame for train, validation and test fencers\n",
        "train_df = df[df['fencer_name'].isin(train_fencers)]\n",
        "val_df   = df[df['fencer_name'].isin(val_fencers)]\n",
        "test_df  = df[df['fencer_name'].isin(test_fencers)]\n",
        "\n",
        "# There will be disparity in the number of fencers, since\n",
        "print(f'Train size: {len(train_df)}')\n",
        "print(f'Validation size: {len(val_df)}')\n",
        "print(f'Test size: {len(test_df)}')"
      ],
      "metadata": {
        "colab": {
          "base_uri": "https://localhost:8080/"
        },
        "id": "X-Hdl5fIbjW-",
        "outputId": "f12e46cc-4df7-446f-b52d-0beb2ce33240"
      },
      "execution_count": 8,
      "outputs": [
        {
          "output_type": "stream",
          "name": "stdout",
          "text": [
            "Train size: 14188\n",
            "Validation size: 1834\n",
            "Test size: 1944\n"
          ]
        }
      ]
    },
    {
      "cell_type": "markdown",
      "source": [
        "Load the data"
      ],
      "metadata": {
        "id": "jG6ZcdFLx1Ip"
      }
    },
    {
      "cell_type": "code",
      "source": [
        "train_grouped = train_df.groupby('fencer_name')\n",
        "val_grouped   = val_df.groupby('fencer_name')\n",
        "test_grouped  = test_df.groupby('fencer_name')\n",
        "\n",
        "training_data = FencerSequencesDataset(train_grouped, window_size=10, horizon=1)\n",
        "validation_data = FencerSequencesDataset(val_grouped, window_size=10, horizon=1)\n",
        "testing_data = FencerSequencesDataset(test_grouped, window_size=10, horizon=1)"
      ],
      "metadata": {
        "id": "o_c_vs0PKF8d"
      },
      "execution_count": 9,
      "outputs": []
    },
    {
      "cell_type": "code",
      "source": [
        "batch_size = 32\n",
        "train_dataloader = DataLoader(training_data, batch_size=batch_size, shuffle=True)\n",
        "val_dataloader = DataLoader(validation_data, batch_size=batch_size, shuffle=False)\n",
        "test_dataloader = DataLoader(testing_data, batch_size=batch_size, shuffle=False)"
      ],
      "metadata": {
        "id": "QT_Qlvbqww3t"
      },
      "execution_count": 10,
      "outputs": []
    },
    {
      "cell_type": "markdown",
      "source": [
        "Create model"
      ],
      "metadata": {
        "id": "3UZ-xVbUx4ng"
      }
    },
    {
      "cell_type": "code",
      "source": [
        "device = torch.device(\"cuda\" if torch.cuda.is_available() else \"cpu\")\n",
        "print(device)"
      ],
      "metadata": {
        "colab": {
          "base_uri": "https://localhost:8080/"
        },
        "id": "S2uLNO1-w5Jt",
        "outputId": "28987a92-b55f-475c-c6a7-1f821e3d4f0b"
      },
      "execution_count": 11,
      "outputs": [
        {
          "output_type": "stream",
          "name": "stdout",
          "text": [
            "cuda\n"
          ]
        }
      ]
    },
    {
      "cell_type": "code",
      "source": [
        "# Model is trained to predict the points earned in the next competition\n",
        "class LSTM(nn.Module):\n",
        "  def __init__(self, input_size, hidden_size, output_size, num_layers=1, dropout=0.25):\n",
        "    super(LSTM, self).__init__()\n",
        "    self.hidden_size = hidden_size\n",
        "    self.num_layers = num_layers\n",
        "\n",
        "    self.lstm = nn.LSTM(input_size, hidden_size, num_layers, batch_first=True, dropout=dropout)\n",
        "    self.dropout = nn.Dropout(dropout)\n",
        "    self.fc = nn.Linear(hidden_size, output_size)\n",
        "\n",
        "  def forward(self, x, hidden=None):\n",
        "    lstm_out, hidden = self.lstm(x, hidden)\n",
        "    out = self.dropout(lstm_out[:, -1, :])\n",
        "    out = self.fc(out) # project hidden state to output representation\n",
        "\n",
        "    return out, hidden"
      ],
      "metadata": {
        "id": "VTFYtSaOwzRc"
      },
      "execution_count": 12,
      "outputs": []
    },
    {
      "cell_type": "code",
      "source": [
        "input_size = 4 # number of features\n",
        "nationality_count = len([col for col in df.columns if col.startswith('nationality_')])\n",
        "input_size += nationality_count\n",
        "\n",
        "hidden_size = 256\n",
        "output_size = 1 # i.e. predicting points earned from a competition\n",
        "num_layers = 4\n",
        "\n",
        "dropout = 0.3\n",
        "best_val_loss = float('inf')\n",
        "patience = 5\n",
        "counter = 0\n",
        "best_model = None\n",
        "\n",
        "model = LSTM(input_size, hidden_size, output_size, num_layers, dropout)\n",
        "model = model.to(device)\n",
        "criterion = nn.MSELoss()\n",
        "optimizer = torch.optim.Adam(model.parameters(), lr=1e-4, weight_decay=0.005) # Reduced learning rate\n",
        "scheduler = torch.optim.lr_scheduler.StepLR(optimizer, step_size=5, gamma=0.5)"
      ],
      "metadata": {
        "id": "HgwWt44fw8dN"
      },
      "execution_count": 13,
      "outputs": []
    },
    {
      "cell_type": "markdown",
      "source": [
        "Train the model"
      ],
      "metadata": {
        "id": "63mYya1Ex7AL"
      }
    },
    {
      "cell_type": "code",
      "source": [
        "def eval_model(model, dataloader):\n",
        "  model.eval()\n",
        "  total_loss = 0\n",
        "\n",
        "  with torch.no_grad():\n",
        "    for sequences, targets in dataloader:\n",
        "      sequences = sequences.to(device)\n",
        "      targets = targets.to(device)\n",
        "\n",
        "      outputs, _ = model(sequences)\n",
        "      loss = criterion(outputs, targets)\n",
        "      total_loss += loss.item()\n",
        "    average_loss = total_loss / len(dataloader)\n",
        "    return average_loss"
      ],
      "metadata": {
        "id": "L996oqoY0To4"
      },
      "execution_count": 14,
      "outputs": []
    },
    {
      "cell_type": "code",
      "source": [
        "train = True\n",
        "epochs = 50\n",
        "patience = 5\n",
        "best_val_loss = float('inf')\n",
        "counter = 0\n",
        "\n",
        "if train:\n",
        "  for epoch in range(epochs):\n",
        "      model.train()\n",
        "      total_train_loss = 0\n",
        "\n",
        "      for sequences, targets in train_dataloader:\n",
        "        batch_loss = 0\n",
        "        sequences = sequences.to(device)\n",
        "        targets = targets.to(device)\n",
        "\n",
        "        optimizer.zero_grad()\n",
        "        outputs, _ = model(sequences)\n",
        "        loss = criterion(outputs, targets)\n",
        "        loss.backward()\n",
        "        torch.nn.utils.clip_grad_norm_(model.parameters(), max_norm=1.0) # Add gradient clipping\n",
        "        optimizer.step()\n",
        "        total_train_loss += loss.item()\n",
        "      scheduler.step()\n",
        "\n",
        "      average_train_loss = total_train_loss / len(train_dataloader)\n",
        "      print(f'Epoch [{epoch+1}/{epochs}], Train Loss: {average_train_loss:.4f}')\n",
        "\n",
        "      # Validation losses\n",
        "      val_loss = eval_model(model, val_dataloader)\n",
        "      print(f'Epoch [{epoch+1}/{epochs}], Validation Loss: {val_loss:.4f}')\n",
        "\n",
        "      if val_loss < best_val_loss:\n",
        "        counter = 0\n",
        "        best_val_loss = val_loss\n",
        "        best_model = model.state_dict()\n",
        "      else:\n",
        "        counter +=1\n",
        "        if counter >= patience:\n",
        "          print(f'Early stopping at epoch {epoch+1}')\n",
        "          break\n",
        "torch.save(best_model, 'model.pth')"
      ],
      "metadata": {
        "colab": {
          "base_uri": "https://localhost:8080/"
        },
        "id": "L75Mii4NxDLC",
        "outputId": "73f6e063-6bed-41b1-fdab-2e7480f589a0"
      },
      "execution_count": 15,
      "outputs": [
        {
          "output_type": "stream",
          "name": "stdout",
          "text": [
            "Epoch [1/50], Train Loss: 0.9112\n",
            "Epoch [1/50], Validation Loss: 0.8056\n",
            "Epoch [2/50], Train Loss: 0.8007\n",
            "Epoch [2/50], Validation Loss: 0.7591\n",
            "Epoch [3/50], Train Loss: 0.8000\n",
            "Epoch [3/50], Validation Loss: 0.7712\n",
            "Epoch [4/50], Train Loss: 0.7998\n",
            "Epoch [4/50], Validation Loss: 0.7529\n",
            "Epoch [5/50], Train Loss: 0.7989\n",
            "Epoch [5/50], Validation Loss: 0.7614\n",
            "Epoch [6/50], Train Loss: 0.7931\n",
            "Epoch [6/50], Validation Loss: 0.7520\n",
            "Epoch [7/50], Train Loss: 0.7930\n",
            "Epoch [7/50], Validation Loss: 0.7606\n",
            "Epoch [8/50], Train Loss: 0.7933\n",
            "Epoch [8/50], Validation Loss: 0.7545\n",
            "Epoch [9/50], Train Loss: 0.7914\n",
            "Epoch [9/50], Validation Loss: 0.7587\n",
            "Epoch [10/50], Train Loss: 0.7923\n",
            "Epoch [10/50], Validation Loss: 0.7650\n",
            "Epoch [11/50], Train Loss: 0.7916\n",
            "Epoch [11/50], Validation Loss: 0.7599\n",
            "Early stopping at epoch 11\n"
          ]
        }
      ]
    },
    {
      "cell_type": "code",
      "source": [
        "test_loss = eval_model(model, test_dataloader)\n",
        "print(f'Test Loss: {test_loss:.4f}')"
      ],
      "metadata": {
        "colab": {
          "base_uri": "https://localhost:8080/"
        },
        "id": "5m8Dcfby1tHt",
        "outputId": "9141d17f-0d75-4e4b-bede-bd4a04ac9f2b"
      },
      "execution_count": 16,
      "outputs": [
        {
          "output_type": "stream",
          "name": "stdout",
          "text": [
            "Test Loss: 0.9872\n"
          ]
        }
      ]
    },
    {
      "cell_type": "code",
      "source": [
        "if train == False:\n",
        "  model_path = '/content/model.pth'\n",
        "  model = LSTM(input_size, hidden_size, output_size, num_layers, dropout)\n",
        "\n",
        "  if str(device) == 'cpu':\n",
        "    model.load_state_dict(torch.load(model_path, map_location=torch.device('cpu')))\n",
        "  else:\n",
        "    model = model.to(device)\n",
        "    model.load_state_dict(torch.load(model_path))"
      ],
      "metadata": {
        "id": "V48HWq6U4lFj"
      },
      "execution_count": 17,
      "outputs": []
    },
    {
      "cell_type": "markdown",
      "source": [
        "Make predictions"
      ],
      "metadata": {
        "id": "2nhID-8K5HkN"
      }
    },
    {
      "cell_type": "code",
      "source": [
        "# Get the next competition date based on the date of the next event from the season before\n",
        "# Fencing competitions are held within days of each other in previous seasons so this assumption is valid\n",
        "def get_next_comp_date(pred_df, nationality,date_df=None):\n",
        "  '''\n",
        "    Predict the next date of the fencing competiton based on when competitions were held the previous season\n",
        "\n",
        "    Args:\n",
        "      pred_df: the dataframe of predictions\n",
        "      nationality: the nationality of the fencer to predict for\n",
        "      date_df: a dataframe of the dates of all competitions past and predicted\n",
        "\n",
        "    Returns:\n",
        "      pred_date: predicted date of the next competition\n",
        "      date_df: the dataframe of all dates of competitions\n",
        "  '''\n",
        "\n",
        "  # Obtain an initial dataframe of competitions of unique dates based on region\n",
        "  if date_df is None:\n",
        "    nationality_df = df[df['nationality'] == nationality]\n",
        "    date_df = nationality_df.drop_duplicates(subset=['date'])\n",
        "\n",
        "  # Compute competition dates from the previous year, starting on the date of the last competition\n",
        "  last_comp_date = pred_df.iloc[-1]['date']\n",
        "  prev_year = last_comp_date - pd.Timedelta(days=365)\n",
        "  prev_comp_dates = date_df[(date_df['date'] >= prev_year) & (date_df['date'] < last_comp_date)]\n",
        "  prev_comp_dates = prev_comp_dates.sort_values(by='date')\n",
        "\n",
        "  if prev_comp_dates.empty:\n",
        "    # !!! This may raise an error if a fencer from a country without a strong fencing background is chosen\n",
        "    raise Exception(f'No previous competitions found, exception has not yet been implemented.')\n",
        "  else:\n",
        "    # Search for the most recent competition then the compeition that comes after\n",
        "    # Get the second entry as the first entry is just the last competiton the fencer competed at\n",
        "    pred_date_df = prev_comp_dates.iloc[[1]].copy()\n",
        "    pred_date_df['date'] = pred_date_df['date'] + pd.Timedelta(days=365)\n",
        "    date_df = pd.concat([date_df, pred_date_df], ignore_index=True)\n",
        "    pred_date = pred_date_df.iloc[0]['date']\n",
        "    return pred_date, date_df"
      ],
      "metadata": {
        "id": "WH0c9nlM5IyX"
      },
      "execution_count": 18,
      "outputs": []
    },
    {
      "cell_type": "code",
      "source": [
        "def forecast(model, fencer_df, num_predictions, tail_length=15):\n",
        "  '''\n",
        "  Make auto-regressive predictions of a fencers future performance based on previous results\n",
        "\n",
        "  Args:\n",
        "    model: the trained LSTM used to make predictions\n",
        "    fencer_df: dataframe of the chosen fencer's results\n",
        "    num_predictions: number of predictions to be made\n",
        "    tail_length: how many of the most recent competitions should be used to make predictions\n",
        "\n",
        "  Returns:\n",
        "    pred_df: dataframe of the predictions consisting of points earned and the date of the next competition\n",
        "  '''\n",
        "\n",
        "\n",
        "  # !!! Why is only a fraction of previous competitions used?\n",
        "\n",
        "  model.eval()\n",
        "  fencer_copy_df = fencer_df.copy().sort_values(by='date')\n",
        "  features_cols = ['points_normalised',\n",
        "                   'rolling_avg_normalised',\n",
        "                   'rank_rescaled',\n",
        "                   'age_normalised']\n",
        "  nationality_cols = [col for col in fencer_copy_df.columns if col.startswith('nationality_')]\n",
        "  all_cols = features_cols + nationality_cols\n",
        "  history = fencer_copy_df[all_cols].values.astype(np.float32)\n",
        "  history_tensor = torch.tensor(history[-tail_length:], dtype=torch.float32, device=device).unsqueeze(0) # Add batch dimension\n",
        "\n",
        "\n",
        "  # Initialise prediction df\n",
        "  last_comp_row = fencer_copy_df.iloc[-1]\n",
        "  last_comp_data = {\n",
        "      'fencer_name': last_comp_row['fencer_name'],\n",
        "      'age': last_comp_row['age'],\n",
        "      'points_earned': last_comp_row['points_earned'],\n",
        "      'date': last_comp_row['date']\n",
        "  }\n",
        "  date_df = None\n",
        "\n",
        "  # Details about next predictions\n",
        "  pred_df_headers = ['fencer_name', 'age', 'points_earned', 'date']\n",
        "  pred_df = pd.DataFrame(data=last_comp_data, columns=pred_df_headers, index=[0])\n",
        "\n",
        "  with torch.no_grad():\n",
        "    hidden = None\n",
        "\n",
        "    for _ in range(num_predictions):\n",
        "      # Make prediction based on data\n",
        "      output, hidden = model(history_tensor, hidden)\n",
        "      predicted_points_normalised = output.item()\n",
        "\n",
        "      # Compute new predicted_rolling_avg based on previous sequences\n",
        "      last_points_window = history_tensor[0, :, 0].cpu().numpy()\n",
        "      new_window = np.append(last_points_window, predicted_points_normalised)\n",
        "      predicted_rolling_avg_normalised = np.mean(new_window[-window_size:]) # Note the history tensor uses normalised values\n",
        "\n",
        "      # Features for next prediction\n",
        "      last_comp_date = pred_df.iloc[-1]['date']\n",
        "      nationality = fencer_df.iloc[-1]['nationality']\n",
        "      next_comp_date_pred, date_df = get_next_comp_date(pred_df, nationality, date_df)\n",
        "      dob = fencer_df.iloc[-1]['dob']\n",
        "      next_age = int((next_comp_date_pred - pd.to_datetime(dob)).days / 365.25)\n",
        "\n",
        "      # Create data for autoregressive predictions\n",
        "      nationality_features = fencer_df.iloc[-1][nationality_cols].values.tolist()\n",
        "      rank = fencer_df.iloc[-1]['rank'] # Using the last known rank - this could be improved\n",
        "      next_age_normalised = (next_age - df['age'].mean()) / df['age'].std()\n",
        "      next_rank_rescaled = fencer_df['rank_rescaled'].iloc[-1]\n",
        "\n",
        "      new_features = [\n",
        "          predicted_points_normalised,\n",
        "          predicted_rolling_avg_normalised,\n",
        "          next_age_normalised,\n",
        "          next_rank_rescaled\n",
        "      ]\n",
        "      new_features.extend(nationality_features)\n",
        "      new_features = np.array(new_features, dtype=np.float32)\n",
        "      new_features_tensor = torch.tensor(new_features, dtype=torch.float32, device=device).unsqueeze(0).unsqueeze(0) # Add batch and sequence length dimensions\n",
        "\n",
        "      # Update history for the next prediction by sliding the window\n",
        "      # : select all sequences in the batch\n",
        "      # 1: select all datapoints but the first datapoint (sliding the window)\n",
        "      # : select all features\n",
        "      history_tensor = torch.cat((history_tensor[:, 1:, :], new_features_tensor), dim=1)\n",
        "\n",
        "      # Denormalise prediction\n",
        "      predicted_rolling_avg = (predicted_rolling_avg_normalised * rolling_std) + rolling_mean\n",
        "      predicted_points = (predicted_points_normalised * points_std) + points_mean\n",
        "\n",
        "      new_row = {col: None for col in pred_df_headers}\n",
        "      new_row.update({\n",
        "          'fencer_name': fencer_df.iloc[-1]['fencer_name'],\n",
        "          'age': next_age,\n",
        "          'points_earned': predicted_points,\n",
        "          'date': pd.to_datetime(next_comp_date_pred)\n",
        "      })\n",
        "      pred_df = pd.concat([pred_df, pd.DataFrame([new_row])], ignore_index=True)\n",
        "\n",
        "  return pred_df.sort_values(by='date')"
      ],
      "metadata": {
        "id": "CbiQ2ybH5o8r"
      },
      "execution_count": 19,
      "outputs": []
    },
    {
      "cell_type": "code",
      "source": [
        "### Make predictions\n",
        "fencer_name = 'IIMURA Kazuki'\n",
        "num_predictions = 50\n",
        "\n",
        "\n",
        "fencer_df = df[df['fencer_name'] == fencer_name]\n",
        "if fencer_df.empty:\n",
        "  print(f'No data found for {fencer_name}')\n",
        "\n",
        "\n",
        "predictions = forecast(model, fencer_df, num_predictions)[1:]\n",
        "print(predictions)"
      ],
      "metadata": {
        "colab": {
          "base_uri": "https://localhost:8080/"
        },
        "id": "8hEbuFqZc5RM",
        "outputId": "0de0cd28-9376-4f6c-eb12-f10b4d253415"
      },
      "execution_count": 23,
      "outputs": [
        {
          "output_type": "stream",
          "name": "stdout",
          "text": [
            "      fencer_name  age  points_earned       date\n",
            "1   IIMURA Kazuki   21      16.927325 2025-06-24\n",
            "2   IIMURA Kazuki   21      17.795683 2025-07-29\n",
            "3   IIMURA Kazuki   21      17.578084 2025-11-22\n",
            "4   IIMURA Kazuki   21      17.597471 2025-12-06\n",
            "5   IIMURA Kazuki   22      17.457561 2026-01-10\n",
            "6   IIMURA Kazuki   22      17.547560 2026-02-07\n",
            "7   IIMURA Kazuki   22      17.432471 2026-03-07\n",
            "8   IIMURA Kazuki   22      17.281848 2026-03-22\n",
            "9   IIMURA Kazuki   22      16.998248 2026-05-02\n",
            "10  IIMURA Kazuki   22      17.359742 2026-05-17\n",
            "11  IIMURA Kazuki   22      17.566969 2026-06-24\n",
            "12  IIMURA Kazuki   22      17.671628 2026-07-29\n",
            "13  IIMURA Kazuki   22      17.979841 2026-11-22\n",
            "14  IIMURA Kazuki   22      18.220669 2026-12-06\n",
            "15  IIMURA Kazuki   23      18.485569 2027-01-10\n",
            "16  IIMURA Kazuki   23      18.630440 2027-02-07\n",
            "17  IIMURA Kazuki   23      18.678032 2027-03-07\n",
            "18  IIMURA Kazuki   23      18.702453 2027-03-22\n",
            "19  IIMURA Kazuki   23      18.722798 2027-05-02\n",
            "20  IIMURA Kazuki   23      18.741300 2027-05-17\n",
            "21  IIMURA Kazuki   23      18.765225 2027-06-24\n",
            "22  IIMURA Kazuki   23      18.780444 2027-07-29\n",
            "23  IIMURA Kazuki   23      18.789092 2027-11-22\n",
            "24  IIMURA Kazuki   23      18.797694 2027-12-06\n",
            "25  IIMURA Kazuki   24      18.809722 2028-01-10\n",
            "26  IIMURA Kazuki   24      18.812987 2028-02-07\n",
            "27  IIMURA Kazuki   24      18.791826 2028-03-06\n",
            "28  IIMURA Kazuki   24      18.760846 2028-03-21\n",
            "29  IIMURA Kazuki   24      18.719121 2028-05-01\n",
            "30  IIMURA Kazuki   24      18.669503 2028-05-16\n",
            "31  IIMURA Kazuki   24      18.627333 2028-06-23\n",
            "32  IIMURA Kazuki   24      18.580620 2028-07-28\n",
            "33  IIMURA Kazuki   24      18.532141 2028-11-21\n",
            "34  IIMURA Kazuki   24      18.483777 2028-12-05\n",
            "35  IIMURA Kazuki   25      18.436563 2029-01-09\n",
            "36  IIMURA Kazuki   25      18.384073 2029-02-06\n",
            "37  IIMURA Kazuki   25      18.307886 2029-03-06\n",
            "38  IIMURA Kazuki   25      18.222855 2029-03-21\n",
            "39  IIMURA Kazuki   25      18.130023 2029-05-01\n",
            "40  IIMURA Kazuki   25      18.031475 2029-05-16\n",
            "41  IIMURA Kazuki   25      17.944680 2029-06-23\n",
            "42  IIMURA Kazuki   25      17.854759 2029-07-28\n",
            "43  IIMURA Kazuki   25      17.764042 2029-11-21\n",
            "44  IIMURA Kazuki   25      17.674242 2029-12-05\n",
            "45  IIMURA Kazuki   26      17.586502 2030-01-09\n",
            "46  IIMURA Kazuki   26      17.493803 2030-02-06\n",
            "47  IIMURA Kazuki   26      17.374112 2030-03-06\n",
            "48  IIMURA Kazuki   26      17.244685 2030-03-21\n",
            "49  IIMURA Kazuki   26      17.106280 2030-05-01\n",
            "50  IIMURA Kazuki   26      16.960958 2030-05-16\n"
          ]
        }
      ]
    },
    {
      "cell_type": "code",
      "source": [
        "### Visualise predictions\n",
        "plt.xlabel('Date')\n",
        "plt.ylabel('Avg points')\n",
        "plt.grid(True, alpha=0.3)\n",
        "\n",
        "\n",
        "fencer_points = fencer_df['points_earned'].rolling(window=10).mean()\n",
        "\n",
        "plt.plot(fencer_df['date'], fencer_points)\n",
        "plt.plot(predictions['date'], predictions['points_earned'], linestyle='--')\n",
        "plt.show()"
      ],
      "metadata": {
        "colab": {
          "base_uri": "https://localhost:8080/",
          "height": 449
        },
        "id": "ttktvLsU4HDy",
        "outputId": "f1fe1eec-c32b-4a8f-a438-95d33db66348"
      },
      "execution_count": 24,
      "outputs": [
        {
          "output_type": "display_data",
          "data": {
            "text/plain": [
              "<Figure size 640x480 with 1 Axes>"
            ],
            "image/png": "[encoded data removed]"
          },
          "metadata": {}
        }
      ]
    },
    {
      "cell_type": "markdown",
      "source": [
        "## TO DO\n",
        "- Encode event type as a feature"
      ],
      "metadata": {
        "id": "7ScbAu6cjOO7"
      }
    }
  ]
}