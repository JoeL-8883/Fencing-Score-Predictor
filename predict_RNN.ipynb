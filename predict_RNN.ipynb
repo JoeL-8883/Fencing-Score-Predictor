{
  "metadata": {
    "kernelspec": {
      "display_name": "Python 3",
      "name": "python3"
    },
    "language_info": {
      "pygments_lexer": "ipython3",
      "nbconvert_exporter": "python",
      "version": "3.6.4",
      "file_extension": ".py",
      "codemirror_mode": {
        "name": "ipython",
        "version": 3
      },
      "name": "python",
      "mimetype": "text/x-python"
    },
    "kaggle": {
      "accelerator": "none",
      "dataSources": [
        {
          "sourceId": 11950812,
          "sourceType": "datasetVersion",
          "datasetId": 7513384
        }
      ],
      "dockerImageVersionId": 31040,
      "isInternetEnabled": true,
      "language": "python",
      "sourceType": "notebook",
      "isGpuEnabled": false
    },
    "colab": {
      "provenance": [],
      "include_colab_link": true
    }
  },
  "nbformat_minor": 0,
  "nbformat": 4,
  "cells": [
    {
      "cell_type": "markdown",
      "metadata": {
        "id": "view-in-github",
        "colab_type": "text"
      },
      "source": [
        "<a href=\"https://colab.research.google.com/github/JoeL-8883/Fencing-Score-Predictor/blob/main/predict_RNN.ipynb\" target=\"_parent\"><img src=\"https://colab.research.google.com/assets/colab-badge.svg\" alt=\"Open In Colab\"/></a>"
      ]
    },
    {
      "cell_type": "code",
      "source": [
        "import pandas as pd\n",
        "import matplotlib.pyplot as plt\n",
        "import matplotlib.dates as mdates\n",
        "import numpy as np\n",
        "import torch\n",
        "import torch.nn as nn\n",
        "from torch.utils.data import Dataset, DataLoader\n",
        "from bs4 import BeautifulSoup\n",
        "import requests\n",
        "import os\n",
        "import gdown\n",
        "import kagglehub"
      ],
      "metadata": {
        "_uuid": "8f2839f25d086af736a60e9eeb907d3b93b6e0e5",
        "_cell_guid": "b1076dfc-b9ad-4769-8c92-a6c4dae69d19",
        "trusted": true,
        "id": "TeDqnZ0topPv"
      },
      "outputs": [],
      "execution_count": 2
    },
    {
      "cell_type": "code",
      "source": [
        "path = kagglehub.dataset_download(\"foillee/fencing-points\")\n",
        "csv_path = os.path.join(path, 'data.csv')\n",
        "df = pd.read_csv(csv_path)\n",
        "df = df.sort_values(by='date')\n",
        "df['date'] = pd.to_datetime(df['date'])\n",
        "df.head()\n"
      ],
      "metadata": {
        "id": "qB-4y70SJ4wU",
        "colab": {
          "base_uri": "https://localhost:8080/",
          "height": 309
        },
        "outputId": "7351471e-aa0d-4c6c-a3b4-6fa44460a596"
      },
      "execution_count": 3,
      "outputs": [
        {
          "output_type": "execute_result",
          "data": {
            "text/plain": [
              "      fie_ID     fencer_name  age         dob nationality  rank host_city  \\\n",
              "5279   17148   ROWLES Thomas   17  1990-05-30         GBR   504   Londres   \n",
              "4878   14529   REMIJN Martin   18  1989-07-25         NED   251   Londres   \n",
              "4873   16321  STIJLAART Mats   17  1990-10-08         NED   250   Londres   \n",
              "4864   17823   AVOLA Giorgio   18  1989-05-08         ITA   247   Londres   \n",
              "4858    3247    KENBER Jamie   20  1986-11-14         GBR   245   Londres   \n",
              "\n",
              "     event_type  points_earned       date  \n",
              "5279  Satellite            0.0 2007-10-21  \n",
              "4878  Satellite            0.0 2007-10-21  \n",
              "4873  Satellite            0.0 2007-10-21  \n",
              "4864  Satellite            2.0 2007-10-21  \n",
              "4858  Satellite            3.0 2007-10-21  "
            ],
            "text/html": [
              "\n",
              "  <div id=\"df-bb2581ee-eb61-4c03-a087-e42e2c759043\" class=\"colab-df-container\">\n",
              "    <div>\n",
              "<style scoped>\n",
              "    .dataframe tbody tr th:only-of-type {\n",
              "        vertical-align: middle;\n",
              "    }\n",
              "\n",
              "    .dataframe tbody tr th {\n",
              "        vertical-align: top;\n",
              "    }\n",
              "\n",
              "    .dataframe thead th {\n",
              "        text-align: right;\n",
              "    }\n",
              "</style>\n",
              "<table border=\"1\" class=\"dataframe\">\n",
              "  <thead>\n",
              "    <tr style=\"text-align: right;\">\n",
              "      <th></th>\n",
              "      <th>fie_ID</th>\n",
              "      <th>fencer_name</th>\n",
              "      <th>age</th>\n",
              "      <th>dob</th>\n",
              "      <th>nationality</th>\n",
              "      <th>rank</th>\n",
              "      <th>host_city</th>\n",
              "      <th>event_type</th>\n",
              "      <th>points_earned</th>\n",
              "      <th>date</th>\n",
              "    </tr>\n",
              "  </thead>\n",
              "  <tbody>\n",
              "    <tr>\n",
              "      <th>5279</th>\n",
              "      <td>17148</td>\n",
              "      <td>ROWLES Thomas</td>\n",
              "      <td>17</td>\n",
              "      <td>1990-05-30</td>\n",
              "      <td>GBR</td>\n",
              "      <td>504</td>\n",
              "      <td>Londres</td>\n",
              "      <td>Satellite</td>\n",
              "      <td>0.0</td>\n",
              "      <td>2007-10-21</td>\n",
              "    </tr>\n",
              "    <tr>\n",
              "      <th>4878</th>\n",
              "      <td>14529</td>\n",
              "      <td>REMIJN Martin</td>\n",
              "      <td>18</td>\n",
              "      <td>1989-07-25</td>\n",
              "      <td>NED</td>\n",
              "      <td>251</td>\n",
              "      <td>Londres</td>\n",
              "      <td>Satellite</td>\n",
              "      <td>0.0</td>\n",
              "      <td>2007-10-21</td>\n",
              "    </tr>\n",
              "    <tr>\n",
              "      <th>4873</th>\n",
              "      <td>16321</td>\n",
              "      <td>STIJLAART Mats</td>\n",
              "      <td>17</td>\n",
              "      <td>1990-10-08</td>\n",
              "      <td>NED</td>\n",
              "      <td>250</td>\n",
              "      <td>Londres</td>\n",
              "      <td>Satellite</td>\n",
              "      <td>0.0</td>\n",
              "      <td>2007-10-21</td>\n",
              "    </tr>\n",
              "    <tr>\n",
              "      <th>4864</th>\n",
              "      <td>17823</td>\n",
              "      <td>AVOLA Giorgio</td>\n",
              "      <td>18</td>\n",
              "      <td>1989-05-08</td>\n",
              "      <td>ITA</td>\n",
              "      <td>247</td>\n",
              "      <td>Londres</td>\n",
              "      <td>Satellite</td>\n",
              "      <td>2.0</td>\n",
              "      <td>2007-10-21</td>\n",
              "    </tr>\n",
              "    <tr>\n",
              "      <th>4858</th>\n",
              "      <td>3247</td>\n",
              "      <td>KENBER Jamie</td>\n",
              "      <td>20</td>\n",
              "      <td>1986-11-14</td>\n",
              "      <td>GBR</td>\n",
              "      <td>245</td>\n",
              "      <td>Londres</td>\n",
              "      <td>Satellite</td>\n",
              "      <td>3.0</td>\n",
              "      <td>2007-10-21</td>\n",
              "    </tr>\n",
              "  </tbody>\n",
              "</table>\n",
              "</div>\n",
              "    <div class=\"colab-df-buttons\">\n",
              "\n",
              "  <div class=\"colab-df-container\">\n",
              "    <button class=\"colab-df-convert\" onclick=\"convertToInteractive('df-bb2581ee-eb61-4c03-a087-e42e2c759043')\"\n",
              "            title=\"Convert this dataframe to an interactive table.\"\n",
              "            style=\"display:none;\">\n",
              "\n",
              "  <svg xmlns=\"http://www.w3.org/2000/svg\" height=\"24px\" viewBox=\"0 -960 960 960\">\n",
              "    <path d=\"M120-120v-720h720v720H120Zm60-500h600v-160H180v160Zm220 220h160v-160H400v160Zm0 220h160v-160H400v160ZM180-400h160v-160H180v160Zm440 0h160v-160H620v160ZM180-180h160v-160H180v160Zm440 0h160v-160H620v160Z\"/>\n",
              "  </svg>\n",
              "    </button>\n",
              "\n",
              "  <style>\n",
              "    .colab-df-container {\n",
              "      display:flex;\n",
              "      gap: 12px;\n",
              "    }\n",
              "\n",
              "    .colab-df-convert {\n",
              "      background-color: #E8F0FE;\n",
              "      border: none;\n",
              "      border-radius: 50%;\n",
              "      cursor: pointer;\n",
              "      display: none;\n",
              "      fill: #1967D2;\n",
              "      height: 32px;\n",
              "      padding: 0 0 0 0;\n",
              "      width: 32px;\n",
              "    }\n",
              "\n",
              "    .colab-df-convert:hover {\n",
              "      background-color: #E2EBFA;\n",
              "      box-shadow: 0px 1px 2px rgba(60, 64, 67, 0.3), 0px 1px 3px 1px rgba(60, 64, 67, 0.15);\n",
              "      fill: #174EA6;\n",
              "    }\n",
              "\n",
              "    .colab-df-buttons div {\n",
              "      margin-bottom: 4px;\n",
              "    }\n",
              "\n",
              "    [theme=dark] .colab-df-convert {\n",
              "      background-color: #3B4455;\n",
              "      fill: #D2E3FC;\n",
              "    }\n",
              "\n",
              "    [theme=dark] .colab-df-convert:hover {\n",
              "      background-color: #434B5C;\n",
              "      box-shadow: 0px 1px 3px 1px rgba(0, 0, 0, 0.15);\n",
              "      filter: drop-shadow(0px 1px 2px rgba(0, 0, 0, 0.3));\n",
              "      fill: #FFFFFF;\n",
              "    }\n",
              "  </style>\n",
              "\n",
              "    <script>\n",
              "      const buttonEl =\n",
              "        document.querySelector('#df-bb2581ee-eb61-4c03-a087-e42e2c759043 button.colab-df-convert');\n",
              "      buttonEl.style.display =\n",
              "        google.colab.kernel.accessAllowed ? 'block' : 'none';\n",
              "\n",
              "      async function convertToInteractive(key) {\n",
              "        const element = document.querySelector('#df-bb2581ee-eb61-4c03-a087-e42e2c759043');\n",
              "        const dataTable =\n",
              "          await google.colab.kernel.invokeFunction('convertToInteractive',\n",
              "                                                    [key], {});\n",
              "        if (!dataTable) return;\n",
              "\n",
              "        const docLinkHtml = 'Like what you see? Visit the ' +\n",
              "          '<a target=\"_blank\" href=https://colab.research.google.com/notebooks/data_table.ipynb>data table notebook</a>'\n",
              "          + ' to learn more about interactive tables.';\n",
              "        element.innerHTML = '';\n",
              "        dataTable['output_type'] = 'display_data';\n",
              "        await google.colab.output.renderOutput(dataTable, element);\n",
              "        const docLink = document.createElement('div');\n",
              "        docLink.innerHTML = docLinkHtml;\n",
              "        element.appendChild(docLink);\n",
              "      }\n",
              "    </script>\n",
              "  </div>\n",
              "\n",
              "\n",
              "    <div id=\"df-67cbfaf9-c88b-4bc3-9b6d-da02d9e524f4\">\n",
              "      <button class=\"colab-df-quickchart\" onclick=\"quickchart('df-67cbfaf9-c88b-4bc3-9b6d-da02d9e524f4')\"\n",
              "                title=\"Suggest charts\"\n",
              "                style=\"display:none;\">\n",
              "\n",
              "<svg xmlns=\"http://www.w3.org/2000/svg\" height=\"24px\"viewBox=\"0 0 24 24\"\n",
              "     width=\"24px\">\n",
              "    <g>\n",
              "        <path d=\"M19 3H5c-1.1 0-2 .9-2 2v14c0 1.1.9 2 2 2h14c1.1 0 2-.9 2-2V5c0-1.1-.9-2-2-2zM9 17H7v-7h2v7zm4 0h-2V7h2v10zm4 0h-2v-4h2v4z\"/>\n",
              "    </g>\n",
              "</svg>\n",
              "      </button>\n",
              "\n",
              "<style>\n",
              "  .colab-df-quickchart {\n",
              "      --bg-color: #E8F0FE;\n",
              "      --fill-color: #1967D2;\n",
              "      --hover-bg-color: #E2EBFA;\n",
              "      --hover-fill-color: #174EA6;\n",
              "      --disabled-fill-color: #AAA;\n",
              "      --disabled-bg-color: #DDD;\n",
              "  }\n",
              "\n",
              "  [theme=dark] .colab-df-quickchart {\n",
              "      --bg-color: #3B4455;\n",
              "      --fill-color: #D2E3FC;\n",
              "      --hover-bg-color: #434B5C;\n",
              "      --hover-fill-color: #FFFFFF;\n",
              "      --disabled-bg-color: #3B4455;\n",
              "      --disabled-fill-color: #666;\n",
              "  }\n",
              "\n",
              "  .colab-df-quickchart {\n",
              "    background-color: var(--bg-color);\n",
              "    border: none;\n",
              "    border-radius: 50%;\n",
              "    cursor: pointer;\n",
              "    display: none;\n",
              "    fill: var(--fill-color);\n",
              "    height: 32px;\n",
              "    padding: 0;\n",
              "    width: 32px;\n",
              "  }\n",
              "\n",
              "  .colab-df-quickchart:hover {\n",
              "    background-color: var(--hover-bg-color);\n",
              "    box-shadow: 0 1px 2px rgba(60, 64, 67, 0.3), 0 1px 3px 1px rgba(60, 64, 67, 0.15);\n",
              "    fill: var(--button-hover-fill-color);\n",
              "  }\n",
              "\n",
              "  .colab-df-quickchart-complete:disabled,\n",
              "  .colab-df-quickchart-complete:disabled:hover {\n",
              "    background-color: var(--disabled-bg-color);\n",
              "    fill: var(--disabled-fill-color);\n",
              "    box-shadow: none;\n",
              "  }\n",
              "\n",
              "  .colab-df-spinner {\n",
              "    border: 2px solid var(--fill-color);\n",
              "    border-color: transparent;\n",
              "    border-bottom-color: var(--fill-color);\n",
              "    animation:\n",
              "      spin 1s steps(1) infinite;\n",
              "  }\n",
              "\n",
              "  @keyframes spin {\n",
              "    0% {\n",
              "      border-color: transparent;\n",
              "      border-bottom-color: var(--fill-color);\n",
              "      border-left-color: var(--fill-color);\n",
              "    }\n",
              "    20% {\n",
              "      border-color: transparent;\n",
              "      border-left-color: var(--fill-color);\n",
              "      border-top-color: var(--fill-color);\n",
              "    }\n",
              "    30% {\n",
              "      border-color: transparent;\n",
              "      border-left-color: var(--fill-color);\n",
              "      border-top-color: var(--fill-color);\n",
              "      border-right-color: var(--fill-color);\n",
              "    }\n",
              "    40% {\n",
              "      border-color: transparent;\n",
              "      border-right-color: var(--fill-color);\n",
              "      border-top-color: var(--fill-color);\n",
              "    }\n",
              "    60% {\n",
              "      border-color: transparent;\n",
              "      border-right-color: var(--fill-color);\n",
              "    }\n",
              "    80% {\n",
              "      border-color: transparent;\n",
              "      border-right-color: var(--fill-color);\n",
              "      border-bottom-color: var(--fill-color);\n",
              "    }\n",
              "    90% {\n",
              "      border-color: transparent;\n",
              "      border-bottom-color: var(--fill-color);\n",
              "    }\n",
              "  }\n",
              "</style>\n",
              "\n",
              "      <script>\n",
              "        async function quickchart(key) {\n",
              "          const quickchartButtonEl =\n",
              "            document.querySelector('#' + key + ' button');\n",
              "          quickchartButtonEl.disabled = true;  // To prevent multiple clicks.\n",
              "          quickchartButtonEl.classList.add('colab-df-spinner');\n",
              "          try {\n",
              "            const charts = await google.colab.kernel.invokeFunction(\n",
              "                'suggestCharts', [key], {});\n",
              "          } catch (error) {\n",
              "            console.error('Error during call to suggestCharts:', error);\n",
              "          }\n",
              "          quickchartButtonEl.classList.remove('colab-df-spinner');\n",
              "          quickchartButtonEl.classList.add('colab-df-quickchart-complete');\n",
              "        }\n",
              "        (() => {\n",
              "          let quickchartButtonEl =\n",
              "            document.querySelector('#df-67cbfaf9-c88b-4bc3-9b6d-da02d9e524f4 button');\n",
              "          quickchartButtonEl.style.display =\n",
              "            google.colab.kernel.accessAllowed ? 'block' : 'none';\n",
              "        })();\n",
              "      </script>\n",
              "    </div>\n",
              "\n",
              "    </div>\n",
              "  </div>\n"
            ],
            "application/vnd.google.colaboratory.intrinsic+json": {
              "type": "dataframe",
              "variable_name": "df",
              "summary": "{\n  \"name\": \"df\",\n  \"rows\": 30808,\n  \"fields\": [\n    {\n      \"column\": \"fie_ID\",\n      \"properties\": {\n        \"dtype\": \"number\",\n        \"std\": 14748,\n        \"min\": 19,\n        \"max\": 65698,\n        \"num_unique_values\": 2679,\n        \"samples\": [\n          4921,\n          36579,\n          20668\n        ],\n        \"semantic_type\": \"\",\n        \"description\": \"\"\n      }\n    },\n    {\n      \"column\": \"fencer_name\",\n      \"properties\": {\n        \"dtype\": \"category\",\n        \"num_unique_values\": 2762,\n        \"samples\": [\n          \"YAN Wei Jyun\",\n          \"LAU Kenji Tsun Yin\",\n          \"GUNES Fatih\"\n        ],\n        \"semantic_type\": \"\",\n        \"description\": \"\"\n      }\n    },\n    {\n      \"column\": \"age\",\n      \"properties\": {\n        \"dtype\": \"number\",\n        \"std\": 5,\n        \"min\": 0,\n        \"max\": 92,\n        \"num_unique_values\": 73,\n        \"samples\": [\n          31,\n          73,\n          26\n        ],\n        \"semantic_type\": \"\",\n        \"description\": \"\"\n      }\n    },\n    {\n      \"column\": \"dob\",\n      \"properties\": {\n        \"dtype\": \"object\",\n        \"num_unique_values\": 2357,\n        \"samples\": [\n          \"2000-03-16\",\n          \"1994-03-08\",\n          \"2000-09-12\"\n        ],\n        \"semantic_type\": \"\",\n        \"description\": \"\"\n      }\n    },\n    {\n      \"column\": \"nationality\",\n      \"properties\": {\n        \"dtype\": \"category\",\n        \"num_unique_values\": 121,\n        \"samples\": [\n          \"TUR\",\n          \"PUR\",\n          \"CHI\"\n        ],\n        \"semantic_type\": \"\",\n        \"description\": \"\"\n      }\n    },\n    {\n      \"column\": \"rank\",\n      \"properties\": {\n        \"dtype\": \"number\",\n        \"std\": 137,\n        \"min\": 1,\n        \"max\": 505,\n        \"num_unique_values\": 505,\n        \"samples\": [\n          17,\n          112,\n          338\n        ],\n        \"semantic_type\": \"\",\n        \"description\": \"\"\n      }\n    },\n    {\n      \"column\": \"host_city\",\n      \"properties\": {\n        \"dtype\": \"category\",\n        \"num_unique_values\": 98,\n        \"samples\": [\n          \"Hong Kong\",\n          \"Cape Town\",\n          \"Kuweit City\"\n        ],\n        \"semantic_type\": \"\",\n        \"description\": \"\"\n      }\n    },\n    {\n      \"column\": \"event_type\",\n      \"properties\": {\n        \"dtype\": \"category\",\n        \"num_unique_values\": 6,\n        \"samples\": [\n          \"Satellite\",\n          \"World Cup\",\n          \"World Championship\"\n        ],\n        \"semantic_type\": \"\",\n        \"description\": \"\"\n      }\n    },\n    {\n      \"column\": \"points_earned\",\n      \"properties\": {\n        \"dtype\": \"number\",\n        \"std\": 7.418415891653998,\n        \"min\": 0.0,\n        \"max\": 96.0,\n        \"num_unique_values\": 41,\n        \"samples\": [\n          30.0,\n          52.0,\n          32.0\n        ],\n        \"semantic_type\": \"\",\n        \"description\": \"\"\n      }\n    },\n    {\n      \"column\": \"date\",\n      \"properties\": {\n        \"dtype\": \"date\",\n        \"min\": \"2007-10-21 00:00:00\",\n        \"max\": \"2025-05-17 00:00:00\",\n        \"num_unique_values\": 304,\n        \"samples\": [\n          \"2017-06-15 00:00:00\",\n          \"2016-03-11 00:00:00\",\n          \"2013-11-09 00:00:00\"\n        ],\n        \"semantic_type\": \"\",\n        \"description\": \"\"\n      }\n    }\n  ]\n}"
            }
          },
          "metadata": {},
          "execution_count": 3
        }
      ]
    },
    {
      "cell_type": "code",
      "source": [
        "'''Remove satellite events - these give very few points so even winning a satellite implies that a fencer performed poorly'''\n",
        "'''We can assume that top fencers do not attend these events - they are the subject of this project for now'''\n",
        "'''At some point I will have to devise a better metric than points'''\n",
        "df = df[df['event_type'] != 'Satellite']\n",
        "\n",
        "'''Delete data for fencers who do not compete regularly'''\n",
        "# NOTE - the threshold must be equal to sequence_length / train_split\n",
        "threshold = 20 # the number of non-satellite events each fencer must have attended to be considered\n",
        "fencer_counts = df['fencer_name'].value_counts()\n",
        "fencers_to_delete = fencer_counts[fencer_counts < 20].index\n",
        "print(f'Deleting {len(fencers_to_delete)} fencers')\n",
        "df = df[~df['fencer_name'].isin(fencers_to_delete)]"
      ],
      "metadata": {
        "id": "hjw-2puS6Abl",
        "colab": {
          "base_uri": "https://localhost:8080/"
        },
        "outputId": "f9f5c9e1-a429-4f23-8fe3-17f84a40b079"
      },
      "execution_count": 4,
      "outputs": [
        {
          "output_type": "stream",
          "name": "stdout",
          "text": [
            "Deleting 1735 fencers\n"
          ]
        }
      ]
    },
    {
      "cell_type": "markdown",
      "source": [
        "Different levels of competitions multiply points by different factors, for instance, in the Olympics you can see the spike in points in Cheung Ka Long's two Olympic golds. So we use and predict rolling averages"
      ],
      "metadata": {
        "id": "YFNQEN1gTgno"
      }
    },
    {
      "cell_type": "code",
      "source": [
        "import matplotlib.pyplot as plt\n",
        "import matplotlib.dates as mdates\n",
        "fencer_name = 'IIMURA Kazuki'\n",
        "df_fencer = df[df['fencer_name'] == fencer_name]\n",
        "plt.title('Performance')\n",
        "plt.xlabel('Date')\n",
        "plt.ylabel('Points')\n",
        "\n",
        "# Compute rolling averages\n",
        "window = 10\n",
        "rolling_avg = df_fencer['points_earned'].rolling(window=window).mean()\n",
        "plt.plot(df_fencer['date'], df_fencer['points_earned'], label=fencer_name + ' points', color='red')\n",
        "plt.plot(df_fencer['date'], rolling_avg, label=fencer_name, color='navy', linestyle='--')\n",
        "\n",
        "\n",
        "plt.grid(True, alpha=0.3)\n",
        "plt.legend()\n",
        "\n",
        "plt.gca().xaxis.set_major_locator(mdates.MonthLocator(interval=12))\n",
        "plt.gca().xaxis.set_major_formatter(mdates.DateFormatter('%Y-%m'))\n",
        "plt.xticks(rotation=45)\n",
        "plt.show()\n"
      ],
      "metadata": {
        "id": "4jTuZP9bVuPw",
        "colab": {
          "base_uri": "https://localhost:8080/",
          "height": 508
        },
        "outputId": "99df50bb-fc92-43ab-e114-9ebfface34e8"
      },
      "execution_count": 5,
      "outputs": [
        {
          "output_type": "display_data",
          "data": {
            "text/plain": [
              "<Figure size 640x480 with 1 Axes>"
            ],
            "image/png": "[encoded data removed]"
          },
          "metadata": {}
        }
      ]
    },
    {
      "cell_type": "code",
      "source": [
        "window_size = 10\n",
        "# Compute rolling averages\n",
        "df['rolling_avg_points'] = df.groupby('fencer_name')['points_earned'].transform(lambda x: x.rolling(window=window_size).mean())\n",
        "\n",
        "# Fill NaN values\n",
        "df['rolling_avg_points'] = df['rolling_avg_points'].fillna(method='bfill') # Fill initial NaNs with the first valid value\n",
        "df['rolling_avg_points'] = df['rolling_avg_points'].fillna(0) # Fill any remaining NaNs with 0 if necessary\n"
      ],
      "metadata": {
        "id": "gt-SusziTgBM",
        "colab": {
          "base_uri": "https://localhost:8080/"
        },
        "outputId": "7ec2a921-8d98-4f30-afcd-fbd72924b29c"
      },
      "execution_count": 6,
      "outputs": [
        {
          "output_type": "stream",
          "name": "stderr",
          "text": [
            "<ipython-input-6-b4d1556c2e32>:6: FutureWarning: Series.fillna with 'method' is deprecated and will raise in a future version. Use obj.ffill() or obj.bfill() instead.\n",
            "  df['rolling_avg_points'] = df['rolling_avg_points'].fillna(method='bfill') # Fill initial NaNs with the first valid value\n"
          ]
        }
      ]
    },
    {
      "cell_type": "code",
      "source": [
        "points_mean = df['points_earned'].mean()\n",
        "points_std = df['points_earned'].std()\n",
        "df['points_normalised'] = (df['points_earned'] - points_mean) / points_std\n",
        "\n",
        "rolling_mean = df['rolling_avg_points'].mean()\n",
        "rolling_std = df['rolling_avg_points'].std()\n",
        "df['rolling_avg_points_normalised'] = (df['rolling_avg_points'] - rolling_mean) / rolling_std"
      ],
      "metadata": {
        "id": "2VPUSd0lCE_Q"
      },
      "execution_count": 7,
      "outputs": []
    },
    {
      "cell_type": "markdown",
      "source": [
        "### Predictive Model"
      ],
      "metadata": {
        "id": "9fkWR0R9tp0n"
      }
    },
    {
      "cell_type": "markdown",
      "source": [
        "Dataset\n",
        "\n",
        "Points alone is not good enough data in predicting a fencer's performance in the future, we need to include features such as their rank at the time, their age, etc."
      ],
      "metadata": {
        "id": "PM2OqFeOttwk"
      }
    },
    {
      "cell_type": "code",
      "source": [
        "'''One-hot encoding of fencer's nationality'''\n",
        "one_hot_nationality = pd.get_dummies(df['nationality'], prefix='nationality')\n",
        "df = pd.concat([df, one_hot_nationality], axis=1)"
      ],
      "metadata": {
        "id": "OCdjLH0NgiB0"
      },
      "execution_count": 8,
      "outputs": []
    },
    {
      "cell_type": "markdown",
      "source": [
        "~~Number of competitions -- we would expect that fencers peak after a number of competitions, however their performance will also degrade as they get older and their physique wears down.~~\n",
        "\n",
        "We can't use this as this counts instances of competitions, not the nth competition a fencer actually competed in!"
      ],
      "metadata": {
        "id": "0LNscB8vDq-b"
      }
    },
    {
      "cell_type": "code",
      "source": [
        "#df['competition_count'] = df.groupby('fencer_name').cumcount() + 1"
      ],
      "metadata": {
        "id": "_i46KgveENxq"
      },
      "execution_count": 9,
      "outputs": []
    },
    {
      "cell_type": "code",
      "source": [
        "class FencerSequenceDataset(Dataset):\n",
        "  def __init__(self, df, sequence_length=11):\n",
        "    self.sequences = []\n",
        "    self.targets = []\n",
        "    self.sequence_length = sequence_length\n",
        "\n",
        "    for fencer_name, fencer_df in df.items():\n",
        "      # Concatenate features with one-hot encoding of nationalities\n",
        "      ranking_data = fencer_df[['points_normalised', 'rolling_avg_points_normalised', 'rank', 'age']].values\n",
        "      nationality_columns = [col for col in fencer_df.columns if col.startswith('nationality_')]\n",
        "      features = np.concatenate((ranking_data, fencer_df[nationality_columns].values), axis=1)\n",
        "\n",
        "      # Create sliding windows\n",
        "      for i in range(len(features) - sequence_length):\n",
        "        point = features[i:i+sequence_length]\n",
        "        target = features[i+sequence_length, 1] # only predict rolling_avg_points_normalised\n",
        "\n",
        "        self.sequences.append(torch.tensor(point, dtype=torch.float32)) # convert to tensors so they can be stacked\n",
        "        self.targets.append(torch.tensor(target, dtype=torch.float32))\n",
        "\n",
        "  def __len__(self):\n",
        "    return len(self.sequences)\n",
        "\n",
        "  def __getitem__(self, idx):\n",
        "    return self.sequences[idx], self.targets[idx]\n"
      ],
      "metadata": {
        "id": "60ySLwk7Hw3-"
      },
      "execution_count": 10,
      "outputs": []
    },
    {
      "cell_type": "code",
      "source": [
        "''' Split the data for each fencer'''\n",
        "data_size = len(df)\n",
        "train_split = 0.6\n",
        "val_split = 0.2\n",
        "test_split = 0.2\n",
        "\n",
        "fencer_train_data = {}\n",
        "fencer_val_data = {}\n",
        "fencer_test_data = {}\n",
        "\n",
        "fencers_grouped = df.groupby('fencer_name') # We can naively assume that each fencer has a different name\n",
        "\n",
        "for fencer_name, fencer_df in fencers_grouped:\n",
        "  fencer_df = fencer_df.sort_values(by='date')\n",
        "\n",
        "  total_size = len(fencer_df)\n",
        "  train_size = int(total_size * train_split)\n",
        "  val_size = int(total_size * val_split)\n",
        "  test_size = total_size - train_size - val_size\n",
        "\n",
        "  # Split Data\n",
        "  fencer_train_data[fencer_name] = fencer_df[:train_size]\n",
        "  fencer_val_data[fencer_name] = fencer_df[train_size:train_size + val_size]\n",
        "  fencer_test_data[fencer_name] = fencer_df[train_size + val_size:]"
      ],
      "metadata": {
        "id": "_GmP99QwtuiL"
      },
      "execution_count": 11,
      "outputs": []
    },
    {
      "cell_type": "code",
      "source": [
        "training_data = FencerSequenceDataset(fencer_train_data)\n",
        "val_data = FencerSequenceDataset(fencer_val_data)\n",
        "test_data = FencerSequenceDataset(fencer_test_data)\n",
        "\n",
        "batch_size=32\n",
        "train_dataloader = DataLoader(training_data, batch_size=batch_size)\n",
        "val_dataloader = DataLoader(val_data, batch_size=batch_size)\n",
        "test_dataloader = DataLoader(test_data, batch_size=batch_size)"
      ],
      "metadata": {
        "id": "b0f7CYs2IpmI"
      },
      "execution_count": 12,
      "outputs": []
    },
    {
      "cell_type": "markdown",
      "source": [
        "Setup model"
      ],
      "metadata": {
        "id": "r-CqqErzvXCx"
      }
    },
    {
      "cell_type": "code",
      "source": [
        "'''Start with a basic RNN'''\n",
        "class RNN(nn.Module):\n",
        "    def __init__(self, input_size, hidden_size, output_size, dropout=0.25):\n",
        "      super(RNN, self).__init__()\n",
        "      self.input_size = input_size\n",
        "      self.hidden_size = hidden_size\n",
        "      self.output_size = output_size\n",
        "      self.dropout = nn.Dropout(dropout)\n",
        "\n",
        "      self.W_ih = nn.Linear(input_size, hidden_size, bias=True) # input to hidden\n",
        "      self.W_hh = nn.Linear(hidden_size, hidden_size, bias=True) # hidden weights\n",
        "      self.W_ho = nn.Linear(hidden_size, output_size, bias=True) # hidden to output\n",
        "\n",
        "    def forward(self, input, h_0=None):\n",
        "      if h_0 is None:\n",
        "        h_0 = torch.zeros(self.hidden_size, device=device)\n",
        "\n",
        "      input = self.dropout(input)\n",
        "      h_t = torch.tanh(self.W_ih(input) + self.W_hh(h_0))\n",
        "      h_t = self.dropout(h_t)\n",
        "      ouput = self.W_ho(h_t)\n",
        "\n",
        "      return ouput, h_t"
      ],
      "metadata": {
        "trusted": true,
        "id": "w6OhPSPXopPz"
      },
      "outputs": [],
      "execution_count": 13
    },
    {
      "cell_type": "code",
      "source": [
        "device = torch.device('cuda' if torch.cuda.is_available() else 'cpu')\n",
        "print(device)"
      ],
      "metadata": {
        "colab": {
          "base_uri": "https://localhost:8080/"
        },
        "id": "G-pKdmHCIjQu",
        "outputId": "fd396544-d283-4432-c768-1d39efa27e03"
      },
      "execution_count": 14,
      "outputs": [
        {
          "output_type": "stream",
          "name": "stdout",
          "text": [
            "cpu\n"
          ]
        }
      ]
    },
    {
      "cell_type": "code",
      "source": [
        "'''Valdiation'''\n",
        "def evaluate_model(model, dataloader):\n",
        "  model.eval()\n",
        "  total_val_loss = 0\n",
        "\n",
        "  with torch.no_grad():\n",
        "    for sequences, targets in val_dataloader:\n",
        "      sequences = sequences.to(device)\n",
        "      targets = targets.to(device)\n",
        "      batch_loss = 0\n",
        "\n",
        "      for i in range(sequences.size(0)):\n",
        "        sequence = sequences[i]\n",
        "        target = targets[i]\n",
        "\n",
        "        hidden_state = torch.zeros(model.hidden_size, device=device)\n",
        "        output = None\n",
        "\n",
        "        for t in range(sequence.size(0)):\n",
        "          output, hidden_state = model(sequence[t].unsqueeze(0), hidden_state)\n",
        "\n",
        "          # Calculate loss for each prediction in the sequence\n",
        "          loss = criterion(output, target.unsqueeze(0))\n",
        "          batch_loss += loss\n",
        "\n",
        "      average_batch_loss = batch_loss / sequences.size(0)\n",
        "      total_val_loss += average_batch_loss.item()\n",
        "\n",
        "  average_val_loss = total_val_loss / len(val_dataloader)\n",
        "  print(f'Average Validation Loss: {average_val_loss:.4f}')\n",
        "  return average_val_loss"
      ],
      "metadata": {
        "id": "cpqx0pjDS8su"
      },
      "execution_count": 15,
      "outputs": []
    },
    {
      "cell_type": "code",
      "source": [
        "input_size = 4 # number of features\n",
        "nationality_count = len([col for col in df.columns if col.startswith('nationality_')])\n",
        "input_size += nationality_count\n",
        "\n",
        "hidden_size = 100 # A larger hidden_size causes the model to overfit\n",
        "output_size = 1 # i.e. predicting points earned from a competition\n",
        "\n",
        "dropout = 0.3\n",
        "best_val_loss = float('inf')\n",
        "patience = 5\n",
        "counter = 0\n",
        "best_model = None\n",
        "\n",
        "\n",
        "model = RNN(input_size, hidden_size, output_size, dropout)\n",
        "model = model.to(device)\n",
        "criterion = nn.MSELoss()\n",
        "optimizer = torch.optim.Adam(model.parameters(), lr=0.0001, weight_decay=0.0005)"
      ],
      "metadata": {
        "id": "IRpMIdvfLMpQ"
      },
      "execution_count": 16,
      "outputs": []
    },
    {
      "cell_type": "code",
      "source": [
        "train = False\n",
        "\n",
        "if train:\n",
        "  epochs = 20\n",
        "\n",
        "  for epoch in range(epochs):\n",
        "    total_train_loss = 0\n",
        "    num_batches = 0\n",
        "\n",
        "    model.train()\n",
        "\n",
        "    for sequences, targets in train_dataloader: # iterate through each batch\n",
        "      optimizer.zero_grad()\n",
        "      batch_loss = 0\n",
        "\n",
        "      sequences = sequences.to(device) # shape: (batch_size, sequence_length, input_size)\n",
        "      targets = targets.to(device) # shape: batch_size\n",
        "\n",
        "      # Iterate through each sequence in the batch\n",
        "      for i in range(sequences.size(0)):\n",
        "        sequence = sequences[i]\n",
        "        target = targets[i]\n",
        "\n",
        "        hidden_state = torch.zeros(model.hidden_size, device=device) # reset the hidden state for each sequence\n",
        "        output = None\n",
        "\n",
        "        # Compute loss for a single sequence\n",
        "        for t in range(sequence.size(0)):\n",
        "          output, hidden_state = model(sequence[t].unsqueeze(0), hidden_state)\n",
        "\n",
        "          loss = criterion(output, target.unsqueeze(0)) # loss for a single sequence\n",
        "          batch_loss += loss # losses for all sequences in a batch\n",
        "\n",
        "      # Compute losses after each sequence\n",
        "      average_batch_loss = batch_loss / sequences.size(0)\n",
        "      average_batch_loss.backward()\n",
        "      optimizer.step()\n",
        "\n",
        "      total_train_loss += average_batch_loss.item()\n",
        "\n",
        "    average_train_loss = total_train_loss / len(train_dataloader)\n",
        "    print(f'Epoch [{epoch+1}/{epochs}], Average Training Loss: {average_train_loss:.4f}')\n",
        "\n",
        "    # Validation loss\n",
        "    val_loss = evaluate_model(model, val_dataloader)\n",
        "\n",
        "    if val_loss < best_val_loss:\n",
        "      counter = 0\n",
        "      best_val_loss = val_loss\n",
        "      best_model = model.state_dict()\n",
        "    else:\n",
        "      counter += 1\n",
        "      if counter >= patience:\n",
        "        print(f'Early stopping at epoch {epoch+1}')\n",
        "        break\n",
        "  torch.save(best_model, 'model.pth')"
      ],
      "metadata": {
        "id": "Ht7yqFG2GekW"
      },
      "execution_count": 17,
      "outputs": []
    },
    {
      "cell_type": "code",
      "source": [
        "model_path = '/content/model.pth'\n",
        "model = RNN(input_size, hidden_size, output_size)\n",
        "\n",
        "if str(device) == 'cpu':\n",
        "  model.load_state_dict(torch.load(model_path, map_location=torch.device('cpu')))\n",
        "else:\n",
        "  model = model.to(device)\n",
        "  model.load_state_dict(torch.load(model_path))\n"
      ],
      "metadata": {
        "id": "7B26VfOlPIIF"
      },
      "execution_count": 18,
      "outputs": []
    },
    {
      "cell_type": "code",
      "source": [
        "'''Testing'''\n",
        "model.eval()\n",
        "total_test_loss = 0\n",
        "num_batches = 0\n",
        "\n",
        "with torch.no_grad():\n",
        "  for sequences, targets in test_dataloader:\n",
        "    sequences = sequences.to(device)\n",
        "    targets = targets.to(device)\n",
        "    batch_loss = 0\n",
        "    for i in range(sequences.size(0)):\n",
        "      hidden_state = torch.zeros(model.hidden_size, device=device)\n",
        "      sequence = sequences[i]\n",
        "      target = targets[i]\n",
        "      output = None\n",
        "\n",
        "      for t in range(len(sequence)):\n",
        "        output, hidden_state = model(sequence[t].unsqueeze(0), hidden_state)\n",
        "\n",
        "        loss = criterion(output, target.unsqueeze(0))\n",
        "        batch_loss += loss.item()\n",
        "\n",
        "    average_batch_loss = batch_loss / sequences.size(0)\n",
        "    total_test_loss += average_batch_loss\n",
        "\n",
        "average_test_loss = total_test_loss / len(test_dataloader)\n",
        "print(f'Average Test Loss: {average_test_loss:.4f}')"
      ],
      "metadata": {
        "colab": {
          "base_uri": "https://localhost:8080/"
        },
        "id": "_ZMYFBLVx989",
        "outputId": "8282b132-f55e-40bb-f5d0-e41ba5fb4f5c"
      },
      "execution_count": 19,
      "outputs": [
        {
          "output_type": "stream",
          "name": "stderr",
          "text": [
            "/usr/local/lib/python3.11/dist-packages/torch/nn/modules/loss.py:610: UserWarning: Using a target size (torch.Size([1])) that is different to the input size (torch.Size([1, 1])). This will likely lead to incorrect results due to broadcasting. Please ensure they have the same size.\n",
            "  return F.mse_loss(input, target, reduction=self.reduction)\n"
          ]
        },
        {
          "output_type": "stream",
          "name": "stdout",
          "text": [
            "Average Test Loss: 3.0686\n"
          ]
        }
      ]
    },
    {
      "cell_type": "code",
      "source": [
        "# Get the next competition date based on the date of the next event from the season before\n",
        "# Fencing competitions are held within days of each other in previous seasons so this assumption is valid\n",
        "def get_next_comp_date(pred_df, nationality,date_df=None):\n",
        "  '''\n",
        "    Predict the next date of the fencing competiton based on when competitions were held the previous season\n",
        "\n",
        "    Args:\n",
        "      pred_df: the dataframe of predictions\n",
        "      nationality: the nationality of the fencer to predict for\n",
        "      date_df: a dataframe of the dates of all competitions past and predicted\n",
        "\n",
        "    Returns:\n",
        "      pred_date: predicted date of the next competition\n",
        "      date_df: the dataframe of all dates of competitions\n",
        "  '''\n",
        "\n",
        "  if date_df is None:\n",
        "    nationality_df = df[df['nationality'] == nationality]\n",
        "    date_df = nationality_df.drop_duplicates(subset=['date'])\n",
        "  last_comp_date = pred_df.iloc[-1]['date']\n",
        "  prev_year = last_comp_date - pd.Timedelta(days=365)\n",
        "  prev_comp_dates = date_df[(date_df['date'] >= prev_year) & (date_df['date'] < last_comp_date)]\n",
        "  prev_comp_dates = prev_comp_dates.sort_values(by='date')\n",
        "\n",
        "  if prev_comp_dates.empty:\n",
        "    raise Exception(f'No previous competitions found, exception has not yet been implemented.')\n",
        "  else:\n",
        "    # Search for the most recent competition then the compeition that comes after\n",
        "    # Get the second entry as the first entry is just the last competiton the fencer competed at\n",
        "    pred_date_df = prev_comp_dates.iloc[[1]].copy()\n",
        "    pred_date_df['date'] = pred_date_df['date'] + pd.Timedelta(days=365)\n",
        "    date_df = pd.concat([date_df, pred_date_df], ignore_index=True)\n",
        "    pred_date = pred_date_df.iloc[0]['date']\n",
        "    return pred_date, date_df"
      ],
      "metadata": {
        "id": "OD5SNgua20fS"
      },
      "execution_count": 20,
      "outputs": []
    },
    {
      "cell_type": "code",
      "source": [
        "def fencer_forecast_full_history(model, fencer_df, num_predictions):\n",
        "  '''\n",
        "  Perform autoregressive forecasting for a given fencer\n",
        "\n",
        "  Args:\n",
        "    model: trained RNN\n",
        "    fencer_df: DataFrame containing all competition data for a particular fencer\n",
        "    num_predictions: number of future predictions ot predict\n",
        "\n",
        "  Returns:\n",
        "    A DataFrame of future predicted rolling averages\n",
        "  '''\n",
        "\n",
        "  model.eval()\n",
        "  fencer_copy_df = fencer_df.copy().sort_values(by='date')\n",
        "  features = ['points_normalised', 'rolling_avg_points_normalised', 'age', 'rank']\n",
        "  nationality_cols = [col for col in fencer_df.columns if col.startswith('nationality_')]\n",
        "  all_features = features + nationality_cols\n",
        "  history = fencer_copy_df[all_features].values.astype(np.float32)\n",
        "  history_tensor = torch.tensor(history, dtype=torch.float32, device=device)\n",
        "\n",
        "  # Initialise prediction df\n",
        "  last_comp_row = fencer_copy_df.iloc[-1]\n",
        "  last_comp_data = {\n",
        "      'fencer_name': last_comp_row['fencer_name'],\n",
        "      'age': last_comp_row['age'],\n",
        "      'points_earned': last_comp_row['points_earned'],\n",
        "      'date': last_comp_row['date']\n",
        "  }\n",
        "  date_df = None\n",
        "\n",
        "  pred_df_headers = ['fencer_name', 'age', 'points_earned', 'date']\n",
        "  pred_df = pd.DataFrame(data=last_comp_data, columns=pred_df_headers, index=[0])\n",
        "\n",
        "  # Process entire history\n",
        "  with torch.no_grad():\n",
        "    hidden_state = None\n",
        "    output = None\n",
        "    for t in range(history_tensor.size(0)):\n",
        "      output, hidden_state = model(history_tensor[t].unsqueeze(0), hidden_state)\n",
        "\n",
        "  '''\n",
        "  Autoregressive prediction\n",
        "    also compose prediction df using predicted values and fencer features\n",
        "  '''\n",
        "  nationality_features = fencer_df.iloc[-1][nationality_cols].values.tolist()\n",
        "  rank = fencer_df.iloc[-1]['rank']\n",
        "\n",
        "  # Unsqueeze creates a new dimension to create mini-batch of size 1\n",
        "  last_step = history_tensor[-1, :].unsqueeze(0)\n",
        "\n",
        "  for i in range(num_predictions):\n",
        "    with torch.no_grad():\n",
        "      output, hidden_state = model(last_step, hidden_state)\n",
        "      predicted_rolling_avg_normalised = output.item()\n",
        "\n",
        "      # We must assume that points is similar to the rolling average (as its difficult to compute the points earned)\n",
        "      # !!! Could we determine what type of event would be next then determine multipliers from there?\n",
        "      predicted_points_normalised = predicted_rolling_avg_normalised\n",
        "\n",
        "      # Predict the date of the next competition\n",
        "      last_comp_date = pred_df.iloc[-1]['date']\n",
        "      nationality = fencer_df.iloc[-1]['nationality']\n",
        "      next_comp_date_pred, date_df = get_next_comp_date(pred_df, nationality, date_df)\n",
        "      dob = fencer_df.iloc[-1]['dob']\n",
        "      next_age = int((next_comp_date_pred - pd.to_datetime(dob)).days / 365.25)\n",
        "\n",
        "      new_features = [\n",
        "          predicted_points_normalised,\n",
        "          predicted_rolling_avg_normalised,\n",
        "          next_age,\n",
        "          rank\n",
        "      ]\n",
        "      new_features.extend(nationality_features)\n",
        "\n",
        "      new_features_array = np.array(new_features, dtype=np.float32)\n",
        "      last_step = torch.tensor(new_features_array, device=device) # New features becomes the input for the next iteration\n",
        "\n",
        "      # Add prediction to df\n",
        "      predicted_rolling_avg = predicted_rolling_avg_normalised * rolling_std + rolling_mean\n",
        "\n",
        "      new_row = {col: None for col in pred_df_headers}\n",
        "      new_row.update({\n",
        "          'fencer_name': fencer_df.iloc[-1]['fencer_name'],\n",
        "          'age': next_age,\n",
        "          'points_earned': predicted_rolling_avg,\n",
        "          'date': pd.to_datetime(next_comp_date_pred)\n",
        "      })\n",
        "      pred_df = pd.concat([pred_df, pd.DataFrame([new_row])], ignore_index=True)\n",
        "\n",
        "  return pred_df.sort_values(by='date')"
      ],
      "metadata": {
        "id": "Pzb2hpKSIl6M"
      },
      "execution_count": 21,
      "outputs": []
    },
    {
      "cell_type": "code",
      "source": [
        "fencer_name = 'IIMURA Kazuki'\n",
        "num_predictions = 20\n",
        "\n",
        "\n",
        "fencer_df = df[df['fencer_name'] == fencer_name]\n",
        "if fencer_df.empty:\n",
        "  print(f'No data found for {fencer_name}')\n",
        "  exit()\n",
        "\n",
        "predictions = fencer_forecast_full_history(model, fencer_df, num_predictions)\n",
        "print(predictions)"
      ],
      "metadata": {
        "colab": {
          "base_uri": "https://localhost:8080/",
          "height": 367
        },
        "id": "51m9-gUlLWPU",
        "outputId": "3d3bd7a5-9ef5-4ee9-aa67-1322b6973e93"
      },
      "execution_count": 22,
      "outputs": [
        {
          "output_type": "stream",
          "name": "stdout",
          "text": [
            "No data found for PENMANN Callum\n"
          ]
        },
        {
          "output_type": "error",
          "ename": "IndexError",
          "evalue": "single positional indexer is out-of-bounds",
          "traceback": [
            "\u001b[0;31m---------------------------------------------------------------------------\u001b[0m",
            "\u001b[0;31mIndexError\u001b[0m                                Traceback (most recent call last)",
            "\u001b[0;32m<ipython-input-22-94b39a02f77a>\u001b[0m in \u001b[0;36m<cell line: 0>\u001b[0;34m()\u001b[0m\n\u001b[1;32m      8\u001b[0m   \u001b[0mexit\u001b[0m\u001b[0;34m(\u001b[0m\u001b[0;34m)\u001b[0m\u001b[0;34m\u001b[0m\u001b[0;34m\u001b[0m\u001b[0m\n\u001b[1;32m      9\u001b[0m \u001b[0;34m\u001b[0m\u001b[0m\n\u001b[0;32m---> 10\u001b[0;31m \u001b[0mpredictions\u001b[0m \u001b[0;34m=\u001b[0m \u001b[0mfencer_forecast_full_history\u001b[0m\u001b[0;34m(\u001b[0m\u001b[0mmodel\u001b[0m\u001b[0;34m,\u001b[0m \u001b[0mfencer_df\u001b[0m\u001b[0;34m,\u001b[0m \u001b[0mnum_predictions\u001b[0m\u001b[0;34m)\u001b[0m\u001b[0;34m\u001b[0m\u001b[0;34m\u001b[0m\u001b[0m\n\u001b[0m\u001b[1;32m     11\u001b[0m \u001b[0mprint\u001b[0m\u001b[0;34m(\u001b[0m\u001b[0mpredictions\u001b[0m\u001b[0;34m)\u001b[0m\u001b[0;34m\u001b[0m\u001b[0;34m\u001b[0m\u001b[0m\n",
            "\u001b[0;32m<ipython-input-21-347886282868>\u001b[0m in \u001b[0;36mfencer_forecast_full_history\u001b[0;34m(model, fencer_df, num_predictions)\u001b[0m\n\u001b[1;32m     21\u001b[0m \u001b[0;34m\u001b[0m\u001b[0m\n\u001b[1;32m     22\u001b[0m   \u001b[0;31m# Initialise prediction df\u001b[0m\u001b[0;34m\u001b[0m\u001b[0;34m\u001b[0m\u001b[0m\n\u001b[0;32m---> 23\u001b[0;31m   \u001b[0mlast_comp_row\u001b[0m \u001b[0;34m=\u001b[0m \u001b[0mfencer_copy_df\u001b[0m\u001b[0;34m.\u001b[0m\u001b[0miloc\u001b[0m\u001b[0;34m[\u001b[0m\u001b[0;34m-\u001b[0m\u001b[0;36m1\u001b[0m\u001b[0;34m]\u001b[0m\u001b[0;34m\u001b[0m\u001b[0;34m\u001b[0m\u001b[0m\n\u001b[0m\u001b[1;32m     24\u001b[0m   last_comp_data = {\n\u001b[1;32m     25\u001b[0m       \u001b[0;34m'fencer_name'\u001b[0m\u001b[0;34m:\u001b[0m \u001b[0mlast_comp_row\u001b[0m\u001b[0;34m[\u001b[0m\u001b[0;34m'fencer_name'\u001b[0m\u001b[0;34m]\u001b[0m\u001b[0;34m,\u001b[0m\u001b[0;34m\u001b[0m\u001b[0;34m\u001b[0m\u001b[0m\n",
            "\u001b[0;32m/usr/local/lib/python3.11/dist-packages/pandas/core/indexing.py\u001b[0m in \u001b[0;36m__getitem__\u001b[0;34m(self, key)\u001b[0m\n\u001b[1;32m   1189\u001b[0m             \u001b[0mmaybe_callable\u001b[0m \u001b[0;34m=\u001b[0m \u001b[0mcom\u001b[0m\u001b[0;34m.\u001b[0m\u001b[0mapply_if_callable\u001b[0m\u001b[0;34m(\u001b[0m\u001b[0mkey\u001b[0m\u001b[0;34m,\u001b[0m \u001b[0mself\u001b[0m\u001b[0;34m.\u001b[0m\u001b[0mobj\u001b[0m\u001b[0;34m)\u001b[0m\u001b[0;34m\u001b[0m\u001b[0;34m\u001b[0m\u001b[0m\n\u001b[1;32m   1190\u001b[0m             \u001b[0mmaybe_callable\u001b[0m \u001b[0;34m=\u001b[0m \u001b[0mself\u001b[0m\u001b[0;34m.\u001b[0m\u001b[0m_check_deprecated_callable_usage\u001b[0m\u001b[0;34m(\u001b[0m\u001b[0mkey\u001b[0m\u001b[0;34m,\u001b[0m \u001b[0mmaybe_callable\u001b[0m\u001b[0;34m)\u001b[0m\u001b[0;34m\u001b[0m\u001b[0;34m\u001b[0m\u001b[0m\n\u001b[0;32m-> 1191\u001b[0;31m             \u001b[0;32mreturn\u001b[0m \u001b[0mself\u001b[0m\u001b[0;34m.\u001b[0m\u001b[0m_getitem_axis\u001b[0m\u001b[0;34m(\u001b[0m\u001b[0mmaybe_callable\u001b[0m\u001b[0;34m,\u001b[0m \u001b[0maxis\u001b[0m\u001b[0;34m=\u001b[0m\u001b[0maxis\u001b[0m\u001b[0;34m)\u001b[0m\u001b[0;34m\u001b[0m\u001b[0;34m\u001b[0m\u001b[0m\n\u001b[0m\u001b[1;32m   1192\u001b[0m \u001b[0;34m\u001b[0m\u001b[0m\n\u001b[1;32m   1193\u001b[0m     \u001b[0;32mdef\u001b[0m \u001b[0m_is_scalar_access\u001b[0m\u001b[0;34m(\u001b[0m\u001b[0mself\u001b[0m\u001b[0;34m,\u001b[0m \u001b[0mkey\u001b[0m\u001b[0;34m:\u001b[0m \u001b[0mtuple\u001b[0m\u001b[0;34m)\u001b[0m\u001b[0;34m:\u001b[0m\u001b[0;34m\u001b[0m\u001b[0;34m\u001b[0m\u001b[0m\n",
            "\u001b[0;32m/usr/local/lib/python3.11/dist-packages/pandas/core/indexing.py\u001b[0m in \u001b[0;36m_getitem_axis\u001b[0;34m(self, key, axis)\u001b[0m\n\u001b[1;32m   1750\u001b[0m \u001b[0;34m\u001b[0m\u001b[0m\n\u001b[1;32m   1751\u001b[0m             \u001b[0;31m# validate the location\u001b[0m\u001b[0;34m\u001b[0m\u001b[0;34m\u001b[0m\u001b[0m\n\u001b[0;32m-> 1752\u001b[0;31m             \u001b[0mself\u001b[0m\u001b[0;34m.\u001b[0m\u001b[0m_validate_integer\u001b[0m\u001b[0;34m(\u001b[0m\u001b[0mkey\u001b[0m\u001b[0;34m,\u001b[0m \u001b[0maxis\u001b[0m\u001b[0;34m)\u001b[0m\u001b[0;34m\u001b[0m\u001b[0;34m\u001b[0m\u001b[0m\n\u001b[0m\u001b[1;32m   1753\u001b[0m \u001b[0;34m\u001b[0m\u001b[0m\n\u001b[1;32m   1754\u001b[0m             \u001b[0;32mreturn\u001b[0m \u001b[0mself\u001b[0m\u001b[0;34m.\u001b[0m\u001b[0mobj\u001b[0m\u001b[0;34m.\u001b[0m\u001b[0m_ixs\u001b[0m\u001b[0;34m(\u001b[0m\u001b[0mkey\u001b[0m\u001b[0;34m,\u001b[0m \u001b[0maxis\u001b[0m\u001b[0;34m=\u001b[0m\u001b[0maxis\u001b[0m\u001b[0;34m)\u001b[0m\u001b[0;34m\u001b[0m\u001b[0;34m\u001b[0m\u001b[0m\n",
            "\u001b[0;32m/usr/local/lib/python3.11/dist-packages/pandas/core/indexing.py\u001b[0m in \u001b[0;36m_validate_integer\u001b[0;34m(self, key, axis)\u001b[0m\n\u001b[1;32m   1683\u001b[0m         \u001b[0mlen_axis\u001b[0m \u001b[0;34m=\u001b[0m \u001b[0mlen\u001b[0m\u001b[0;34m(\u001b[0m\u001b[0mself\u001b[0m\u001b[0;34m.\u001b[0m\u001b[0mobj\u001b[0m\u001b[0;34m.\u001b[0m\u001b[0m_get_axis\u001b[0m\u001b[0;34m(\u001b[0m\u001b[0maxis\u001b[0m\u001b[0;34m)\u001b[0m\u001b[0;34m)\u001b[0m\u001b[0;34m\u001b[0m\u001b[0;34m\u001b[0m\u001b[0m\n\u001b[1;32m   1684\u001b[0m         \u001b[0;32mif\u001b[0m \u001b[0mkey\u001b[0m \u001b[0;34m>=\u001b[0m \u001b[0mlen_axis\u001b[0m \u001b[0;32mor\u001b[0m \u001b[0mkey\u001b[0m \u001b[0;34m<\u001b[0m \u001b[0;34m-\u001b[0m\u001b[0mlen_axis\u001b[0m\u001b[0;34m:\u001b[0m\u001b[0;34m\u001b[0m\u001b[0;34m\u001b[0m\u001b[0m\n\u001b[0;32m-> 1685\u001b[0;31m             \u001b[0;32mraise\u001b[0m \u001b[0mIndexError\u001b[0m\u001b[0;34m(\u001b[0m\u001b[0;34m\"single positional indexer is out-of-bounds\"\u001b[0m\u001b[0;34m)\u001b[0m\u001b[0;34m\u001b[0m\u001b[0;34m\u001b[0m\u001b[0m\n\u001b[0m\u001b[1;32m   1686\u001b[0m \u001b[0;34m\u001b[0m\u001b[0m\n\u001b[1;32m   1687\u001b[0m     \u001b[0;31m# -------------------------------------------------------------------\u001b[0m\u001b[0;34m\u001b[0m\u001b[0;34m\u001b[0m\u001b[0m\n",
            "\u001b[0;31mIndexError\u001b[0m: single positional indexer is out-of-bounds"
          ]
        }
      ]
    }
  ]
}